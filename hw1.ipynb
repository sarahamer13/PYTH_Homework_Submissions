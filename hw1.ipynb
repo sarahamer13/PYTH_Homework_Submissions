{
  "nbformat": 4,
  "nbformat_minor": 0,
  "metadata": {
    "colab": {
      "provenance": []
    },
    "kernelspec": {
      "name": "python3",
      "display_name": "Python 3"
    },
    "language_info": {
      "name": "python"
    }
  },
  "cells": [
    {
      "cell_type": "code",
      "execution_count": null,
      "metadata": {
        "id": "hqfLW2uyE5Eu"
      },
      "outputs": [],
      "source": []
    },
    {
      "cell_type": "markdown",
      "metadata": {
        "id": "xw-Sdc2wEXhJ"
      },
      "source": [
        "<a href=\"https://colab.research.google.com/github/mottaquikarim/PYTH2/blob/master/src/PSETS/nb/conditionals_inclass_psets.ipynb\" target=\"_parent\"><img src=\"https://colab.research.google.com/assets/colab-badge.svg\" alt=\"Open In Colab\"/></a>"
      ]
    },
    {
      "cell_type": "markdown",
      "metadata": {
        "id": "9b3PBRhTEXhK"
      },
      "source": [
        "#  CONDITIONALS\n",
        "\n",
        "## WEATHER\n",
        "\n",
        "### P1.PY\n",
        "\n",
        "\n"
      ]
    },
    {
      "cell_type": "code",
      "execution_count": null,
      "metadata": {
        "id": "QpBZTWbzEXhL",
        "colab": {
          "base_uri": "https://localhost:8080/"
        },
        "outputId": "ebf45fa6-fe83-4685-c432-75712f992ffb"
      },
      "outputs": [
        {
          "output_type": "stream",
          "name": "stdout",
          "text": [
            "False\n",
            "True\n",
            "True\n",
            "False\n"
          ]
        }
      ],
      "source": [
        "\"\"\"\n",
        "Weather I - Do you need boots?\n",
        "\"\"\"\n",
        "\n",
        "# Use the values of the vars defined below to ouput the correct contextual answer to the questions below. (Note: The variables themselves ARE the questions.)\n",
        "\n",
        "# Example:\n",
        "## am_i_hungry = False\n",
        "## am_i_tired = True\n",
        "## do_i_need_to_stay_awake = False\n",
        "\n",
        "## should_i_drink_coffee_now = am_i_tired and do_i_need_to_stay_awake\n",
        "\n",
        "## ^^ This ^^ evaluates to False. If you're tired and don't need to stay awake, you don't need to drink coffee!\n",
        "\n",
        "\n",
        "is_it_raining = True\n",
        "is_it_snowing = False\n",
        "not_snowing = True\n",
        "not_raining = False     # added two additional booleans\n",
        "\n",
        "\n",
        "do_i_need_snow_boots = is_it_snowing\n",
        "print(do_i_need_snow_boots)\n",
        "\n",
        "can_i_skip_snow_boots = not_snowing\n",
        "print(can_i_skip_snow_boots)\n",
        "\n",
        "\n",
        "do_i_need_rain_boots = is_it_raining\n",
        "print(do_i_need_rain_boots)\n",
        "\n",
        "can_i_skip_rain_boots = not_raining\n",
        "print(can_i_skip_rain_boots)"
      ]
    },
    {
      "cell_type": "markdown",
      "metadata": {
        "id": "g_5QBUlyEXhL"
      },
      "source": [
        "\n",
        "\n",
        "### P2.PY\n",
        "\n",
        "\n"
      ]
    },
    {
      "cell_type": "code",
      "execution_count": null,
      "metadata": {
        "id": "lnBPce0-EXhL"
      },
      "outputs": [],
      "source": [
        "\"\"\"\n",
        "Weather II - Precipitation\n",
        "\"\"\"\n",
        "\n",
        "# Repeat the same process as p1, using this new set of variables.\n",
        "\n",
        "sunny = True\n",
        "raining = True\n",
        "snowing = False\n",
        "\n",
        "is_it_sunny = sunny\n",
        "is_there_precipitation = raining or snowing\n",
        "is_it_sleeting = raining or snowing\n",
        "is_there_rainbow = raining or sunny"
      ]
    },
    {
      "cell_type": "markdown",
      "metadata": {
        "id": "0xcxc-9BEXhM"
      },
      "source": [
        "\n",
        "\n",
        "### P3.PY\n",
        "\n",
        "\n"
      ]
    },
    {
      "cell_type": "code",
      "execution_count": null,
      "metadata": {
        "id": "COAcEKpBEXhM"
      },
      "outputs": [],
      "source": [
        "\"\"\"\n",
        "Weather III - Describe Conditions\n",
        "\"\"\"\n",
        "\n",
        "# Repeat the same process as p1, using this new set of variables.\n",
        "\n",
        "\n",
        "is_it_warm = True\n",
        "is_it_humid = True\n",
        "is_it_cold = False\n",
        "is_it_icy = False\n",
        "is_it_foggy = False\n",
        "is_it_windy = False\n",
        "is_it_overcast = True\n",
        "\n",
        "\n",
        "is_it_summer_weather = is_it_warm or is_it_humid\n",
        "is_rain_coming = is_it_overcast or is_it_foggy\n",
        "is_it_muggy = is_it_humid or is_it_warm\n",
        "do_i_need_coat = is_it_cold or is_it_overcast\n",
        "\n"
      ]
    },
    {
      "cell_type": "markdown",
      "metadata": {
        "id": "szS5aPvZEXhM"
      },
      "source": [
        "\n",
        "\n",
        "## LOGIC\n",
        "\n",
        "### P1.PY\n",
        "\n",
        "\n"
      ]
    },
    {
      "cell_type": "code",
      "execution_count": null,
      "metadata": {
        "id": "-bNqy4V8EXhM",
        "colab": {
          "base_uri": "https://localhost:8080/"
        },
        "outputId": "da02cc1b-8320-4bc7-e0ce-12aafba8ecd8"
      },
      "outputs": [
        {
          "output_type": "stream",
          "name": "stdout",
          "text": [
            "A\n"
          ]
        }
      ],
      "source": [
        "\"\"\"\n",
        "Calculate Grade\n",
        "\"\"\"\n",
        "\n",
        "grade = 15  # expect this to be a number\n",
        "\n",
        "# write a program that will print the \"letter\"\n",
        "# equivalent of the grade, for example:\n",
        "# when grade = 90 # -> expect A\n",
        "# when grade = 80 # -> expect B\n",
        "# when grade = 70 # -> expect C\n",
        "# when grade = 60 # -> expect D\n",
        "# when grade = 54 # -> expect F\n",
        "# when grade = -10 # -> expect Error\n",
        "# when grade = 10000 # -> expect Error\n",
        "# when grade = \"lol skool sucks\" # -> expect Error\n",
        "\n",
        "grade = 95 # assigning a value to grade to start the conditional checks\n",
        "\n",
        "if grade >= 90:\n",
        "  print('A')\n",
        "elif grade >= 80:\n",
        "  print('B')\n",
        "elif grade >= 70:\n",
        "  print('C')\n",
        "elif grade >= 60:\n",
        "  print('D')\n",
        "elif grade >= 54:\n",
        "  print('F')\n",
        "elif grade == -10:\n",
        "  print('Error')\n",
        "elif grade == 1000:\n",
        "  print('Error')\n",
        "elif grade == \"lol skool sucks\":\n",
        "  print('Error')\n"
      ]
    },
    {
      "cell_type": "markdown",
      "metadata": {
        "id": "7uwKDUBKEXhM"
      },
      "source": [
        "\n",
        "\n",
        "### P2.PY\n",
        "\n",
        "\n"
      ]
    },
    {
      "cell_type": "code",
      "execution_count": 12,
      "metadata": {
        "id": "DtMFha7iEXhM",
        "colab": {
          "base_uri": "https://localhost:8080/"
        },
        "outputId": "197e976e-3702-4a73-e11b-686e5b35ec28"
      },
      "outputs": [
        {
          "output_type": "stream",
          "name": "stdout",
          "text": [
            "-1\n"
          ]
        }
      ],
      "source": [
        "\"\"\"\n",
        "Sign of Product\n",
        "\"\"\"\n",
        "\n",
        "# Given three numbers, a, b, c, without multiplying, determine the sign of their product.\n",
        "\n",
        "# EXAMPLE: a = -5, b = 6, c = -4, print 1\n",
        "\n",
        "# EXAMPLE: a = 5, b = 6, c = -4, print -1\n",
        "\n",
        "a = 5\n",
        "b = -4\n",
        "c = -3\n",
        "\n",
        "if a > 0 and b > 0 and c > 0:   # checking if all variables are greater than 0\n",
        "  print(1)\n",
        "elif a < 0 and b < 0 and c < 0:  # checking if all variables are less than 0\n",
        "  print(1)\n",
        "elif a < 0 and b > 0 and c > 0:  # checking if a is less and b, c are greater than 0. B and C meaning will be positive\n",
        "  print(-1)\n",
        "elif a > 0 and b < 0 and c > 0: # checking if a,c are greater than zero and b less than zero\n",
        "  print(-1)\n",
        "elif a > 0 and b > 0 and c < 0:  # checking if a,b greater than zero and c is less than zero\n",
        "  print(-1)\n",
        "else: # if the code reach here, if means none of the above are true\n",
        "  print(-1) # if the block of code reach here, it means two numbers are negatives and it will print -1\n",
        "\n"
      ]
    },
    {
      "cell_type": "markdown",
      "metadata": {
        "id": "gNsREbyJEXhM"
      },
      "source": [
        "\n",
        "\n",
        "### P3.PY\n",
        "\n",
        "\n"
      ]
    },
    {
      "cell_type": "code",
      "execution_count": null,
      "metadata": {
        "id": "I3rNJrWqEXhN",
        "colab": {
          "base_uri": "https://localhost:8080/"
        },
        "outputId": "50f3f4a5-cf51-4596-d550-72e75cd506c7"
      },
      "outputs": [
        {
          "output_type": "stream",
          "name": "stdout",
          "text": [
            "uppercase_found\n"
          ]
        }
      ],
      "source": [
        "\"\"\"\n",
        "Any Uppercase\n",
        "\"\"\"\n",
        "\n",
        "# Given a string str, determine if there are any uppercase values in it. Use only conditional statements and string methods (you may have to look some up!)\n",
        "\n",
        "# EXAMPLE: str = \"teSt\", print True\n",
        "\n",
        "\n",
        "str = \"California\"\n",
        "\n",
        "if str. islower() == False:\n",
        "  print(\"uppercase_found\")\n",
        "else:\n",
        "  print(\"lowercase_found\")\n"
      ]
    },
    {
      "cell_type": "markdown",
      "metadata": {
        "id": "W9VaCsWsEXhN"
      },
      "source": [
        "\n",
        "\n",
        "### P4.PY\n",
        "\n",
        "\n"
      ]
    },
    {
      "cell_type": "code",
      "execution_count": null,
      "metadata": {
        "id": "ucY9QcKPEXhN",
        "colab": {
          "base_uri": "https://localhost:8080/"
        },
        "outputId": "84040533-77d0-40ac-826a-6029c89bb9ea"
      },
      "outputs": [
        {
          "output_type": "stream",
          "name": "stdout",
          "text": [
            "True\n"
          ]
        }
      ],
      "source": [
        "\"\"\"\n",
        "Empty Strings\n",
        "\"\"\"\n",
        "\n",
        "# Given any empty string, of the form:\n",
        "\n",
        "# ''\n",
        "# ' '\n",
        "# '  '\n",
        "# any other num of spaces...\n",
        "\n",
        "# determine if the str is empty or not (print True or False). Hint: You'll need to look up how to remove trailing spaces from a string.\n",
        "\n",
        "var = ' '\n",
        "\n",
        "if len(var.strip()) >= 1:    # checking if if the len of var after stripping any whitespaces\n",
        "  print(False)\n",
        "else:\n",
        "  print(True)\n",
        "\n",
        "\n",
        "# using the strip method to strip any whitespaces from both ends\n",
        "# if the len is >= 1 it prints false, and if it's less than 1 it will be print false\n"
      ]
    },
    {
      "cell_type": "markdown",
      "metadata": {
        "id": "hz_6HpBSEXhN"
      },
      "source": [
        "\n",
        "\n",
        "### P5.PY\n",
        "\n",
        "\n"
      ]
    },
    {
      "cell_type": "code",
      "execution_count": 16,
      "metadata": {
        "id": "OZkf23n7EXhN",
        "colab": {
          "base_uri": "https://localhost:8080/"
        },
        "outputId": "be1a0a9f-f7a8-4357-9f23-010737885ee9"
      },
      "outputs": [
        {
          "output_type": "stream",
          "name": "stdout",
          "text": [
            "False\n"
          ]
        }
      ],
      "source": [
        "\"\"\"\n",
        "truthTableEvaluator\n",
        "\"\"\"\n",
        "\n",
        "# Given the following inputs:\n",
        "\n",
        "\n",
        "# P = # True or False\n",
        "# Q = # True or False\n",
        "# op = # '^' (logical AND, conjunction)\n",
        "#      # OR, 'v' (logical OR, disjunction)\n",
        "#      # OR, '->' (logical conditional, implication)\n",
        "#      # OR, '<->' (biconditional)\n",
        "# determine the correct outcome.\n",
        "\n",
        "# https://medium.com/i-math/intro-to-truth-tables-boolean-algebra-73b331dd9b94\n",
        "\n",
        "P = True\n",
        "Q = False\n",
        "op = '<->'\n",
        "\n",
        "if op == '^':   # checking if op is '^' logical and\n",
        "  output = P and Q\n",
        "elif op == 'v':   # checking if op is 'v'\n",
        "  output= P or Q\n",
        "elif op == '->':   # checking if op is '->'\n",
        "  output = (not P) or Q\n",
        "elif op == '<->':\n",
        "  output = P == Q # it wil evalute between P and Q\n",
        "else:\n",
        "  print('invalid operation')\n",
        "\n",
        "print(output)\n",
        "\n"
      ]
    },
    {
      "cell_type": "markdown",
      "metadata": {
        "id": "rvYcvTi4EXhN"
      },
      "source": [
        "\n",
        "\n",
        "## RANDOM_NUMS\n",
        "\n",
        "### P1.PY\n",
        "\n",
        "\n"
      ]
    },
    {
      "cell_type": "code",
      "execution_count": null,
      "metadata": {
        "id": "YrXqVzbZEXhN",
        "colab": {
          "base_uri": "https://localhost:8080/"
        },
        "outputId": "db76b980-07a6-4965-b526-f169d09c54f2"
      },
      "outputs": [
        {
          "output_type": "stream",
          "name": "stdout",
          "text": [
            "red\n"
          ]
        }
      ],
      "source": [
        "\"\"\"\n",
        "Generate Traffic Light\n",
        "\"\"\"\n",
        "\n",
        "import random\n",
        "\n",
        "\n",
        "# generates a random number from 1 to 3\n",
        "\n",
        "light = random.randint(1,3) #using the random.randint function to generate a random number that will be assigned to the variable light\n",
        "if light == 1:\n",
        "  print ('red')\n",
        "elif light == 2:\n",
        "  print ('green')\n",
        "elif light == 3:\n",
        "  print ('yellow')\n",
        "\n",
        "# if 1, print 'red'\n",
        "# if 2, print 'green',\n",
        "# if 3, print 'yellow'\n"
      ]
    },
    {
      "cell_type": "markdown",
      "metadata": {
        "id": "8MrfUG5oEXhN"
      },
      "source": [
        "\n",
        "\n",
        "### P2.PY\n",
        "\n",
        "\n"
      ]
    },
    {
      "cell_type": "code",
      "execution_count": null,
      "metadata": {
        "id": "xz3B0ZSUEXhN"
      },
      "outputs": [],
      "source": [
        "\"\"\"\n",
        "Generate Phone Number w/Area Code\n",
        "\"\"\"\n",
        "\n",
        "\n",
        "import random\n",
        "\n",
        "\n",
        "# generate a random phone number of the form:\n",
        "# 1-718-786-2825\n",
        "# This should be a string\n",
        "# Valid Area Codes are: 646, 718, 212\n",
        "# if phone number doesn't have [646, 718, 212]\n",
        "# as area code, pick one of the above at random\n",
        "\n",
        "area_codes = [646, 718, 212]\n",
        "\n",
        "area_code = random.choice(area_codes)        #generating a random phone number here\n",
        "phone_number = f\"1-{area_code}-{random.randint(100, 999)}-{random.randint(1000,9999)}\"  # using f string to structure how the phone number should be\n"
      ]
    },
    {
      "cell_type": "markdown",
      "metadata": {
        "id": "kxBBSipSEXhN"
      },
      "source": [
        "\n"
      ]
    }
  ]
}