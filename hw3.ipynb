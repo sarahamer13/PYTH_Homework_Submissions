{
  "nbformat": 4,
  "nbformat_minor": 0,
  "metadata": {
    "colab": {
      "provenance": []
    },
    "kernelspec": {
      "name": "python3",
      "display_name": "Python 3"
    },
    "language_info": {
      "name": "python"
    }
  },
  "cells": [
    {
      "cell_type": "code",
      "execution_count": null,
      "metadata": {
        "id": "JcKcm1Fhe84D"
      },
      "outputs": [],
      "source": []
    },
    {
      "cell_type": "markdown",
      "metadata": {
        "id": "7q7qzyNheuEh"
      },
      "source": [
        "<a href=\"https://colab.research.google.com/github/mottaquikarim/PYTH2/blob/master/src/PSETS/nb/homework_3_loops.ipynb\" target=\"_parent\"><img src=\"https://colab.research.google.com/assets/colab-badge.svg\" alt=\"Open In Colab\"/></a>"
      ]
    },
    {
      "cell_type": "markdown",
      "metadata": {
        "id": "mjyWv6zeeuEj"
      },
      "source": [
        "#  LOOPS\n",
        "\n",
        "## LOOP_BASICS\n",
        "\n",
        "### P1.PY\n",
        "\n",
        "\n"
      ]
    },
    {
      "cell_type": "code",
      "execution_count": null,
      "metadata": {
        "id": "YXgDbLAZeuEj",
        "colab": {
          "base_uri": "https://localhost:8080/"
        },
        "outputId": "13602bd0-2ce8-4064-d0be-54940f0cbf2d"
      },
      "outputs": [
        {
          "output_type": "stream",
          "name": "stdout",
          "text": [
            "odd numbers: [1, 3, 5, 7, 9]\n",
            "Even numbers: [2, 4, 6, 8, 10]\n"
          ]
        }
      ],
      "source": [
        "\"\"\"\n",
        "Odds & Evens\n",
        "\"\"\"\n",
        "\n",
        "# Use a loop to make a list of all odd numbers between 1 and 10 and another list with all the evens. When done, print the lists.\n",
        "\n",
        "odds = [i for i in range(1,11) if i % 2 !=0]\n",
        "\n",
        "evens = [i for i in range(1,11) if i % 2 == 0]\n",
        "\n",
        "# Now will print the odd and even numbers\n",
        "\n",
        "print(\"odd numbers:\", odds)\n",
        "print(\"Even numbers:\", evens)\n",
        "\n"
      ]
    },
    {
      "cell_type": "markdown",
      "metadata": {
        "id": "H250WRSSeuEj"
      },
      "source": [
        "\n",
        "\n",
        "### P2.PY\n",
        "\n",
        "\n"
      ]
    },
    {
      "cell_type": "code",
      "execution_count": null,
      "metadata": {
        "id": "QQnrwJm8euEk",
        "colab": {
          "base_uri": "https://localhost:8080/"
        },
        "outputId": "7c9e4f62-3a9a-4b86-daed-c7ed4d76bfde"
      },
      "outputs": [
        {
          "output_type": "stream",
          "name": "stdout",
          "text": [
            "List a before: [2, 4, 10, 20, 5, 2, 20, 4]\n",
            "List a after removing the duplicates: [2, 4, 10, 20, 5]\n",
            "Merged list a with list b without duplicates: [2, 4, 10, 20, 5, 2, 20, 4, 13, 25, 8]\n"
          ]
        }
      ],
      "source": [
        "\"\"\"\n",
        "Lists with Duplicates\n",
        "\"\"\"\n",
        "\n",
        "# First, print list a below as it is now.\n",
        "\n",
        "a = [2, 4, 10, 20, 5, 2, 20, 4]\n",
        "b = [13, 2, 25, 20, 4, 8]\n",
        "\n",
        "print(\"List a before:\", a)\n",
        "\n",
        "# Using a loop, remove the duplicate items from list a and print out the updated list.\n",
        "\n",
        "a_without_duplicates = []\n",
        "for item in a:\n",
        "  if item not in a_without_duplicates:\n",
        "    a_without_duplicates.append(item)\n",
        "\n",
        "print(\"List a after removing the duplicates:\", a_without_duplicates)\n",
        "\n",
        "# Using a loop, merge list b into list a without adding any duplicates.\n",
        "\n",
        "for item in b:\n",
        "  if item not in a:\n",
        "    a.append(item)\n",
        "\n",
        "print(\"Merged list a with list b without duplicates:\", a)"
      ]
    },
    {
      "cell_type": "markdown",
      "metadata": {
        "id": "mDT_SdyYeuEk"
      },
      "source": [
        "\n",
        "\n",
        "### P3.PY\n",
        "\n",
        "\n"
      ]
    },
    {
      "cell_type": "code",
      "execution_count": null,
      "metadata": {
        "id": "bRI9Wh62euEk",
        "colab": {
          "base_uri": "https://localhost:8080/"
        },
        "outputId": "8af10162-4322-4833-ee89-8d15af9aad06"
      },
      "outputs": [
        {
          "output_type": "stream",
          "name": "stdout",
          "text": [
            "Converted temperatures:\n",
            "71.6 °F -> 22.00°C\n",
            "82.4 °F -> 28.00°C\n",
            "91.4 °F -> 33.00°C\n",
            "107.6 °F -> 42.00°C\n",
            "125.6 °F -> 52.00°C\n"
          ]
        }
      ],
      "source": [
        "\"\"\"\n",
        "Temperature Conversions\n",
        "\"\"\"\n",
        "\n",
        "# You're studying climate change, and over the last 3 years, you've recorded the temperature at noon every day in degrees Fahrenheit (F). The var sampleF holds a portion of those recordings.\n",
        "\n",
        "sampleF = [71.6, 82.4, 91.4, 107.6, 125.6]\n",
        "\n",
        "# Convert each item in this list into degrees Celsius and add the results to a dict called sample_temps so that the conversion of each day's temperature is easily accessible. For reference, the conversion equation between F and C is:\n",
        "# Celsius = (Fahrenheit - 32) * 5.0/9.0\n",
        "\n",
        "# create an empty placeholder to store the converted temp\n",
        "\n",
        "\n",
        "sample_temps = {}\n",
        "\n",
        "for temp_f in sampleF:\n",
        "  temp_c = (temp_f - 32) * 5.0/9.0\n",
        "  sample_temps[temp_f] = temp_c\n",
        "\n",
        "print(\"Converted temperatures:\")\n",
        "\n",
        "for temp_f, temp_c in sample_temps.items():\n",
        "  print(f\"{temp_f} °F -> {temp_c:.2f}°C\")\n",
        "\n"
      ]
    },
    {
      "cell_type": "markdown",
      "metadata": {
        "id": "Xp5t_GBQeuEk"
      },
      "source": [
        "\n",
        "\n",
        "### P4.PY\n",
        "\n",
        "\n"
      ]
    },
    {
      "cell_type": "code",
      "execution_count": 9,
      "metadata": {
        "id": "jfk2j8YyeuEk",
        "colab": {
          "base_uri": "https://localhost:8080/"
        },
        "outputId": "283c451d-9aee-48f1-f680-40c60f4a53ae"
      },
      "outputs": [
        {
          "output_type": "stream",
          "name": "stdout",
          "text": [
            "Enter a number to find its factorial: 5\n",
            "5! = 1*2*3*4*5\n",
            "5! = 120\n"
          ]
        }
      ],
      "source": [
        "\"\"\"\n",
        "Factorial\n",
        "\"\"\"\n",
        "\n",
        "# Find the factorial of a number input by a user. Then print out the factors within the factorial and then print out the actual numeric answer. Hint: The formula for a factorial is n! = (n-1)*n.\n",
        "\n",
        "\n",
        "# Example output:\n",
        "\"\"\"\n",
        "8! = 8*7*6*5*4*3*2*1\n",
        "8! = 40320\n",
        "\"\"\"\n",
        "\n",
        "\n",
        "def factorial(n):\n",
        "  if n == 0:\n",
        "    return 1\n",
        "  result = 1\n",
        "\n",
        "  for i in range (1, n + 1):\n",
        "    result*= i\n",
        "  return result\n",
        "\n",
        "\n",
        "user_input = int(input('Enter a number to find its factorial: '))\n",
        "\n",
        "factorial_input = '*'.join(str(i)for i in range(1, user_input + 1))\n",
        "fact = factorial(user_input)\n",
        "\n",
        "print(f\"{user_input}! = {factorial_input}\")\n",
        "print(f\"{user_input}! = {fact}\")\n",
        "\n"
      ]
    },
    {
      "cell_type": "markdown",
      "metadata": {
        "id": "qmCZWc9FeuEk"
      },
      "source": [
        "\n",
        "\n",
        "### P5.PY\n",
        "\n",
        "\n"
      ]
    },
    {
      "cell_type": "code",
      "execution_count": null,
      "metadata": {
        "id": "iaxUsgYeeuEl",
        "colab": {
          "base_uri": "https://localhost:8080/"
        },
        "outputId": "82c43a6a-8a01-43d2-c539-6747951695de"
      },
      "outputs": [
        {
          "output_type": "stream",
          "name": "stdout",
          "text": [
            "Enter a number to find its factors: 12\n",
            "The factors of 12 are: [1, 2, 3, 4, 6, 12]\n"
          ]
        }
      ],
      "source": [
        "\"\"\"\n",
        "Factors\n",
        "\"\"\"\n",
        "\n",
        "# Find all factors of a number that a user inputs and print out 'The factors of <the_user_input_number> are: '.\n",
        "\n",
        "user_input = int(input('Enter a number to find its factors: '))\n",
        "\n",
        "# create an empty list to store things\n",
        "\n",
        "factors = []\n",
        "\n",
        "for i in range(1, user_input + 1):\n",
        "  if user_input % i == 0:\n",
        "    factors.append(i)\n",
        "\n",
        "# now print the factors\n",
        "print(f\"The factors of {user_input} are:\", factors)"
      ]
    },
    {
      "cell_type": "markdown",
      "metadata": {
        "id": "aOBsBCy1euEl"
      },
      "source": [
        "\n",
        "\n",
        "### P6.PY\n",
        "\n",
        "\n"
      ]
    },
    {
      "cell_type": "code",
      "execution_count": 11,
      "metadata": {
        "id": "xL8wHwTCeuEl",
        "colab": {
          "base_uri": "https://localhost:8080/"
        },
        "outputId": "d700a9a4-d33e-4a9b-b0b2-3b9d02574bd6"
      },
      "outputs": [
        {
          "output_type": "stream",
          "name": "stdout",
          "text": [
            "Enter two numbers to find their greatest common denominator.\n",
            "First number: 15\n",
            "Second number: 5\n",
            "The GCD of 15 and 5 is 5\n"
          ]
        }
      ],
      "source": [
        "\"\"\"\n",
        "GCD\n",
        "\"\"\"\n",
        "\n",
        "# Find the greatest common denominator (GCD) of two number input by a user. Then print out 'The GCD of <first number> and <second number> is <your result>.'\n",
        "\n",
        "def gcd(a,b):\n",
        "  while b:\n",
        "    a,b = b, a % b\n",
        "  return a\n",
        "\n",
        "\n",
        "print('Enter two numbers to find their greatest common denominator.')\n",
        "\n",
        "user_input1 = int(input('First number: '))\n",
        "user_input2 = int(input('Second number: '))\n",
        "\n",
        "result = gcd(user_input1, user_input2)\n",
        "\n",
        "print(f'The GCD of {user_input1} and {user_input2} is {result}')"
      ]
    },
    {
      "cell_type": "markdown",
      "metadata": {
        "id": "Uw7cdQmbeuEl"
      },
      "source": [
        "\n",
        "\n",
        "## DICT_LOOPS\n",
        "\n",
        "### P1.PY\n",
        "\n",
        "\n"
      ]
    },
    {
      "cell_type": "code",
      "execution_count": null,
      "metadata": {
        "id": "WXIY-bsIeuEl",
        "colab": {
          "base_uri": "https://localhost:8080/"
        },
        "outputId": "ea57ec26-e5c5-4b2a-b382-426fe2f64565"
      },
      "outputs": [
        {
          "output_type": "stream",
          "name": "stdout",
          "text": [
            "Final Contacts:\n",
            "Jamie : 11921680143\n",
            "Kartik : 18372091121\n",
            "Grant : 18263861758\n",
            "Brandon : 19352979447\n",
            "Monique : 17027165353\n",
            "Sohom : 15766196100\n"
          ]
        }
      ],
      "source": [
        "\"\"\"\n",
        "Contacts\n",
        "\"\"\"\n",
        "\n",
        "# You went to a conference and got people to sign up for text updates from your startup. Go through this dict to make the phone numbers readable to a computer.\n",
        "\n",
        "# Hint: It can't include any non-numeric\n",
        "# characters.\n",
        "\n",
        "contacts = {\n",
        "\t'Jamie': '1.192.168.0143',\n",
        "\t'Kartik': '1.837.209.1121',\n",
        "\t'Grant': '1.826.386.1758',\n",
        "\t'Brandon': '1.935.297.9447',\n",
        "\t'Monique': '1.702.716.5353',\n",
        "\t'Sohom': '1.576.619.6100',\n",
        "}\n",
        "\n",
        "\n",
        "def conf_phone_number(phone_number):\n",
        "\treturn ''.join(char for char in phone_number if char.isdigit())\n",
        "\n",
        "final_contacts = {name:conf_phone_number(phone) for name, phone in contacts.items()}\n",
        "\n",
        "print(\"Final Contacts:\")\n",
        "\n",
        "for name, phone in final_contacts.items():\n",
        "\tprint(f\"{name} : {phone}\")\n"
      ]
    },
    {
      "cell_type": "markdown",
      "metadata": {
        "id": "zwP_30JHeuEl"
      },
      "source": [
        "\n",
        "\n",
        "### P2.PY\n",
        "\n",
        "\n"
      ]
    },
    {
      "cell_type": "code",
      "execution_count": 14,
      "metadata": {
        "id": "xuXc5AaaeuEl",
        "colab": {
          "base_uri": "https://localhost:8080/"
        },
        "outputId": "688a76e3-018a-4f52-ea19-4a8d0043f7c4"
      },
      "outputs": [
        {
          "output_type": "stream",
          "name": "stdout",
          "text": [
            "Average Numerical Grades: {'Ashton': 82.25, 'Sierra': 100, 'Zach': 66, 'Manuel': 94, 'Felicia': 91.25, 'Ankur': 78.5, 'Ananya': 92.75, 'Nick': 85.5, 'Olivia': 82, 'Molly': 79.75}\n",
            "Letter Grades: {'Ashton': 'B', 'Sierra': 'A', 'Zach': 'D', 'Manuel': 'A', 'Felicia': 'A', 'Ankur': 'C', 'Ananya': 'A', 'Nick': 'B', 'Olivia': 'B', 'Molly': 'C'}\n",
            "Honor Roll Students: ['Sierra', 'Manuel', 'Felicia', 'Ananya']\n"
          ]
        }
      ],
      "source": [
        "\"\"\"\n",
        "Grades\n",
        "\"\"\"\n",
        "# Here's a dict containing students' grades from the semester's assignments.\n",
        "\n",
        "students = {\n",
        "  'Ashton': [86, 45, 98, 100],\n",
        "  'Sierra': [100, 100, 100, 100],\n",
        "  'Zach': [38, 49, 90, 87],\n",
        "  'Manuel': [98, 92, 86, 100],\n",
        "  'Felicia': [94, 87, 89, 95],\n",
        "  'Ankur': [75, 77, 77, 85],\n",
        "  'Ananya': [98, 94, 87, 92],\n",
        "  'Nick': [79, 84, 89, 90],\n",
        "  'Olivia': [83, 91, 69, 85],\n",
        "  'Molly': [83, 74, 72, 90]\n",
        "}\n",
        "\n",
        "# p 1.1) Create a dict called num_grades to store each student's average numerical grade for the semester.\n",
        "\n",
        "import statistics\n",
        "\n",
        "num_grades = {}\n",
        "for students, grades in students.items():\n",
        "  average_grade = statistics.mean(grades)\n",
        "  num_grades[students] = average_grade\n",
        "\n",
        "print(\"Average Numerical Grades:\", num_grades)\n",
        "\n",
        "\n",
        "# p 1.2) Create a dict called letter_grades to store each student's final letter grade for the semester. Use A, B, C, D, and F as grades per the standard grading scale.\n",
        "\n",
        "letter_grades = {}\n",
        "\n",
        "for student, avg_grade in num_grades.items():\n",
        "  if avg_grade >= 90:\n",
        "    letter_grades[student] = 'A'\n",
        "  elif avg_grade >= 80:\n",
        "    letter_grades[student] = 'B'\n",
        "  elif avg_grade >= 70:\n",
        "    letter_grades[student] = 'C'\n",
        "  elif avg_grade >= 60:\n",
        "    letter_grades[student] = 'D'\n",
        "  else:\n",
        "    letter_grades[student] = 'F'\n",
        "\n",
        "print(\"Letter Grades:\", letter_grades)\n",
        "\n",
        "# p 1.3) Create a list of honor roll students (i.e. students who got A's).\n",
        "\n",
        "honor_roll= [student for student, grade in letter_grades.items() if grade == 'A']\n",
        "\n",
        "print(\"Honor Roll Students:\", honor_roll)\n"
      ]
    },
    {
      "cell_type": "markdown",
      "metadata": {
        "id": "9H-2tGlNeuEl"
      },
      "source": [
        "\n",
        "\n",
        "### P3.PY\n",
        "\n",
        "\n"
      ]
    },
    {
      "cell_type": "code",
      "execution_count": 16,
      "metadata": {
        "id": "bsWvCh7peuEl",
        "colab": {
          "base_uri": "https://localhost:8080/"
        },
        "outputId": "73850172-ea18-43cf-e48d-0aaadc326822"
      },
      "outputs": [
        {
          "output_type": "stream",
          "name": "stdout",
          "text": [
            "Price increases: {'gnocchi gorgonzola': 12.25, 'spaghetti carbonara': 13.9, 'pizza margherita': 15.0}\n"
          ]
        }
      ],
      "source": [
        "\"\"\"\n",
        "Price Inventory\n",
        "\"\"\"\n",
        "\n",
        "# Imagine you're the owner of an Italian restaurant. You're evaluating your pricing to make sure it's up to date with the latest costs of making each menu item (see the menu prices and costs dicts below). Evaluate whether each item's price returns a profit margin of at least $1.00. If it doesn't, update the menu_prices dict with a new price that gives the item a $1.00 profit margin. Then print out the items which you've repriced in a new dict called price_increases.\n",
        "\n",
        "menu_prices = {\n",
        "\t'fettuccine bolognese': 14.99,\n",
        "\t'gnocchi gorgonzola': 10.99,\n",
        "\t'chicken parmigiano': 13.99,\n",
        "\t'butternut squash risotto': 9.99,\n",
        "\t'spaghetti carbonara': 12.99,\n",
        "\t'pizza margherita': 12.99,\n",
        "\t'chicken marsala': 13.99\n",
        "}\n",
        "\n",
        "menu_costs = {\n",
        "\t'fettuccine bolognese': 12.50,\n",
        "\t'gnocchi gorgonzola': 11.25,\n",
        "\t'chicken parmigiano': 11.75,\n",
        "\t'butternut squash risotto': 6.33,\n",
        "\t'spaghetti carbonara': 12.90,\n",
        "\t'pizza margherita': 14.00,\n",
        "\t'chicken marsala': 11.75\n",
        "}\n",
        "\n",
        "price_increases = {}\n",
        "\n",
        "for item in menu_prices:\n",
        "\tprofit_margin = menu_prices[item] - menu_costs[item]\n",
        "\tif profit_margin < 1.00:\n",
        "\t\tnew_price = menu_costs[item] + 1.00\n",
        "\t\tprice_increases[item] = new_price\n",
        "\t\tmenu_prices[item] = new_price\n",
        "\n",
        "print(\"Price increases:\", price_increases)\n",
        "\n"
      ]
    },
    {
      "cell_type": "markdown",
      "metadata": {
        "id": "uJpEAuz4euEl"
      },
      "source": [
        "\n",
        "\n",
        "## CONTROL_FLOW\n",
        "\n",
        "### P1.PY\n",
        "\n",
        "\n"
      ]
    },
    {
      "cell_type": "code",
      "execution_count": 22,
      "metadata": {
        "id": "dIDBZdHJeuEl",
        "colab": {
          "base_uri": "https://localhost:8080/"
        },
        "outputId": "9625be4c-1916-4e74-d76d-ed13f6437a6a"
      },
      "outputs": [
        {
          "output_type": "stream",
          "name": "stdout",
          "text": [
            "Multiple of 4 has found 8\n"
          ]
        }
      ],
      "source": [
        "\"\"\"\n",
        "Control Flow - I\n",
        "\"\"\"\n",
        "\n",
        "# Print the numbers in the range (5:12) until you find a factor of 4. If the range the user enters contains no factors of 4, print \"There are no factors of 4 in this interval.\"\n",
        "# HINT: for the range 5,12 there will likely be multiples of 4 present - to assert the final requirement, try changing range boundaries\n",
        "\n",
        "r = range(5, 13)\n",
        "\n",
        "factor_of_4_found = False\n",
        "\n",
        "\n",
        "\n",
        "for i in r:\n",
        "  if i % 4 == 0:\n",
        "    print(f'Multiple of 4 has found {i}')\n",
        "    factor_of_4_found = True\n",
        "    break\n",
        "\n",
        "# if not factor 4 is found\n",
        "\n",
        "if not factor_of_4_found:\n",
        "  print('There are no factors of 4 in this interval')\n"
      ]
    },
    {
      "cell_type": "markdown",
      "metadata": {
        "id": "h9t6TIKXeuEl"
      },
      "source": [
        "\n",
        "\n",
        "### P2.PY\n",
        "\n",
        "\n"
      ]
    },
    {
      "cell_type": "code",
      "execution_count": 17,
      "metadata": {
        "id": "ZTBQWdwWeuEl",
        "colab": {
          "base_uri": "https://localhost:8080/"
        },
        "outputId": "f6537e54-a75f-4092-b37a-91c417fb2f9d"
      },
      "outputs": [
        {
          "output_type": "stream",
          "name": "stdout",
          "text": [
            "0\n",
            "1\n",
            "2\n",
            "4\n",
            "5\n"
          ]
        }
      ],
      "source": [
        "\"\"\"\n",
        "Control Flow II\n",
        "\"\"\"\n",
        "\n",
        "# Write a Python program that prints all the numbers from 0 to 6 except 3 and 6. Note : Use 'continue' statement.\n",
        "\n",
        "r = range(0, 7)\n",
        "\n",
        "for i in r:\n",
        "  if i == 3:\n",
        "    continue\n",
        "  if i == 6:\n",
        "    continue\n",
        "  else:\n",
        "      print(i)\n",
        "\n"
      ]
    },
    {
      "cell_type": "markdown",
      "metadata": {
        "id": "qzsH7jw0euEl"
      },
      "source": [
        "\n",
        "\n",
        "## SHAPES\n",
        "\n",
        "### P1.PY\n",
        "\n",
        "\n"
      ]
    },
    {
      "cell_type": "code",
      "execution_count": 5,
      "metadata": {
        "id": "StWOt6tqeuEl",
        "colab": {
          "base_uri": "https://localhost:8080/"
        },
        "outputId": "93799840-7e87-47b4-c5bb-5739ad21cbb1"
      },
      "outputs": [
        {
          "output_type": "stream",
          "name": "stdout",
          "text": [
            "*\n",
            "**\n",
            "***\n",
            "****\n",
            "*****\n"
          ]
        }
      ],
      "source": [
        "\"\"\"\n",
        "Build a Triangle\n",
        "\"\"\"\n",
        "\n",
        "# Use a while loop to print a 5-level triangle of stars that looks like this:\n",
        "\n",
        "\"\"\"\n",
        "*\n",
        "**\n",
        "***\n",
        "****\n",
        "*****\n",
        "\"\"\"\n",
        "\n",
        "i = 1\n",
        "star = '*'\n",
        "\n",
        "while i <= 5:\n",
        "  print(i * star)\n",
        "  i += 1\n"
      ]
    },
    {
      "cell_type": "markdown",
      "metadata": {
        "id": "cdJeVWAqeuEm"
      },
      "source": [
        "\n",
        "\n",
        "### P2.PY\n",
        "\n",
        "\n"
      ]
    },
    {
      "cell_type": "code",
      "execution_count": 3,
      "metadata": {
        "id": "L-bys8YTeuEm",
        "colab": {
          "base_uri": "https://localhost:8080/"
        },
        "outputId": "7ee9df17-b830-4737-b42d-6afcee106b79"
      },
      "outputs": [
        {
          "output_type": "stream",
          "name": "stdout",
          "text": [
            "    *\n",
            "   ***\n",
            "  *****\n",
            " *******\n",
            "*********\n"
          ]
        }
      ],
      "source": [
        "\"\"\"\n",
        "Build a Pyramid\n",
        "\"\"\"\n",
        "\n",
        "# Use a while loop to print a pyramid of stars that looks like this:\n",
        "\n",
        "\"\"\"\n",
        "    *\n",
        "   ***\n",
        "  *****\n",
        " *******\n",
        "*********\n",
        "\"\"\"\n",
        "\n",
        "spaces = 4\n",
        "stars = 1\n",
        "\n",
        "while spaces >= 0:\n",
        "    print(\" \" * spaces + \"*\" * stars)\n",
        "    spaces -= 1    # decrease spaces by 1 and increase stars by 2\n",
        "    stars += 2\n"
      ]
    },
    {
      "cell_type": "markdown",
      "metadata": {
        "id": "j291gbwbeuEm"
      },
      "source": [
        "\n",
        "\n",
        "### P3.PY\n",
        "\n",
        "\n"
      ]
    },
    {
      "cell_type": "code",
      "execution_count": 6,
      "metadata": {
        "id": "7Z5wl7NPeuEm",
        "colab": {
          "base_uri": "https://localhost:8080/"
        },
        "outputId": "23c555ae-5667-4e38-949c-e1b15ca3b847"
      },
      "outputs": [
        {
          "output_type": "stream",
          "name": "stdout",
          "text": [
            "    *\n",
            "   ***\n",
            "  *****\n",
            " *******\n",
            "*********\n",
            " *******\n",
            "  *****\n",
            "   ***\n",
            "    *\n"
          ]
        }
      ],
      "source": [
        "\"\"\"\n",
        "Build a Diamond\n",
        "\"\"\"\n",
        "\n",
        "# Use a while loop to print a diamond of stars that looks like this:\n",
        "\n",
        "\"\"\"\n",
        "    *\n",
        "   ***\n",
        "  *****\n",
        " *******\n",
        "*********\n",
        " *******\n",
        "  *****\n",
        "   ***\n",
        "    *\n",
        "\"\"\"\n",
        "\n",
        "# Upper half\n",
        "i = 1\n",
        "while i <= 5:\n",
        "    print(\" \" * (5 - i) + \"*\" * (2 * i - 1)) # number of spaces decreases and numbers of starts increases\n",
        "    i += 1\n",
        "\n",
        "# Lower half\n",
        "i = 4\n",
        "while i >= 1:\n",
        "    print(\" \" * (5 - i) + \"*\" * (2 * i - 1))\n",
        "    i -= 1"
      ]
    },
    {
      "cell_type": "markdown",
      "metadata": {
        "id": "zT8x0yxheuEm"
      },
      "source": [
        "\n",
        "\n",
        "## LOOP_CHALLENGES\n",
        "\n",
        "### P1.PY\n",
        "\n",
        "\n"
      ]
    },
    {
      "cell_type": "code",
      "execution_count": 25,
      "metadata": {
        "id": "vfNjEZd-euEm",
        "colab": {
          "base_uri": "https://localhost:8080/"
        },
        "outputId": "ac7dee2a-96d8-451e-f6e7-3b6120a1bd62"
      },
      "outputs": [
        {
          "name": "stdout",
          "output_type": "stream",
          "text": [
            "Input your password: azms16\n"
          ]
        }
      ],
      "source": [
        "\"\"\"\n",
        "Valid Passwords\n",
        "\"\"\"\n",
        "import re\n",
        "# Check the validity of password input by users based on the below security requirements: At least 1 letter between [a-z] and 1 letter between [A-Z].\n",
        "\"\"\"\n",
        "# At least 1 letter between [a-z] and 1 letter between [A-Z].\n",
        "#At least 1 number between [0-9].\n",
        "At least 1 character from [$#@].\n",
        "Minimum length 6 characters.\n",
        "Maximum length 16 characters.\n",
        "\"\"\"\n",
        "\n",
        "# Hint: Look up the documentation for the \"re\" library and it's \".search()\" method.\n",
        "def is_valid_password(password):\n",
        "\n",
        "  if (re.search(r\"[a-z]\", password)and\n",
        "    re.search(r\"[A-Z]\", password)and\n",
        "    re.search(r\"[0-9]\", password) and\n",
        "    re.search(r\"[$#@]\", password)):\n",
        "\n",
        "    return 6 <= len(password) <= 16\n",
        "  return False\n",
        "\n",
        "p = input(\"Input your password: \")"
      ]
    },
    {
      "cell_type": "markdown",
      "metadata": {
        "id": "FIBScv6SeuEm"
      },
      "source": [
        "\n",
        "\n",
        "### P2.PY\n",
        "\n",
        "\n"
      ]
    },
    {
      "cell_type": "code",
      "execution_count": 36,
      "metadata": {
        "id": "f6tPXA_ieuEm",
        "colab": {
          "base_uri": "https://localhost:8080/"
        },
        "outputId": "ad34e788-6544-41f5-a5f4-21af7c30d866"
      },
      "outputs": [
        {
          "output_type": "stream",
          "name": "stdout",
          "text": [
            "Enter a number to check if it's prime: 12\n",
            "12 is not a prime number\n",
            "For example, 2 x 6 = 12\n"
          ]
        }
      ],
      "source": [
        "\"\"\"\n",
        "Prime Numbers I\n",
        "\"\"\"\n",
        "\n",
        "# Check if a number input by a user is prime or not. If it is NOT a prime number, print out that it is not a prime number. If it IS a prime number, print out that it is a prime number and give an example of two of its factors. Hint: Prime numbers must be greater than 1.\n",
        "\n",
        "# Example of output for a NON-prime:\n",
        "# 12 is not a prime number\n",
        "# For example, 2 x 6 = 12\n",
        "\n",
        "def check_prime_and_factors(n):\n",
        "\n",
        "  if n <= 1:\n",
        "    return f\"{n} is not a prime number\"\n",
        "\n",
        "  for i in range(2, int(n ** 0.5)+ 1):\n",
        "    if n % i == 0:\n",
        "      return f\"{n} is not a prime number\\nFor example, {i} x {n // i} = {n}\"\n",
        "\n",
        "  # if no factors found then n is a prime\n",
        "\n",
        "  return f\"{n} is a prime number and its only factors are 1 and {n}\"\n",
        "\n",
        "user_input = input(\"Enter a number to check if it's prime: \")\n",
        "result = check_prime_and_factors(12)\n",
        "print(result)\n",
        "\n"
      ]
    },
    {
      "cell_type": "markdown",
      "metadata": {
        "id": "7d6-dvJ5euEm"
      },
      "source": [
        "\n"
      ]
    }
  ]
}