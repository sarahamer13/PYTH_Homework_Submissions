{
  "nbformat": 4,
  "nbformat_minor": 0,
  "metadata": {
    "colab": {
      "provenance": []
    },
    "kernelspec": {
      "name": "python3",
      "display_name": "Python 3"
    },
    "language_info": {
      "name": "python"
    }
  },
  "cells": [
    {
      "cell_type": "code",
      "execution_count": null,
      "metadata": {
        "id": "JisbP1IOoQ8W"
      },
      "outputs": [],
      "source": []
    },
    {
      "cell_type": "markdown",
      "metadata": {
        "id": "Qr7Lq5rBn_Qb"
      },
      "source": [
        "<a href=\"https://colab.research.google.com/github/mottaquikarim/PYTH2/blob/master/src/PSETS/nb/basic_data_inclass_psets.ipynb\" target=\"_parent\"><img src=\"https://colab.research.google.com/assets/colab-badge.svg\" alt=\"Open In Colab\"/></a>"
      ]
    },
    {
      "cell_type": "markdown",
      "metadata": {
        "id": "kEMbyBdun_Qd"
      },
      "source": [
        "#  BASIC DATA TYPES\n",
        "\n",
        "## BASICS\n",
        "\n",
        "### P1.PY\n",
        "\n",
        "\n"
      ]
    },
    {
      "cell_type": "code",
      "execution_count": 6,
      "metadata": {
        "id": "4vxeQmzXn_Qd"
      },
      "outputs": [],
      "source": [
        "\"\"\"\n",
        "Placeholders\n",
        "\"\"\"\n",
        "\n",
        "# You're writing a program, and you don't know what your starting value for your 'initial' variable is yet. The program won't run if you leave it blank, but you don't want to forget you need it! Make a workaround.\n",
        "\n",
        "initial = None"
      ]
    },
    {
      "cell_type": "markdown",
      "metadata": {
        "id": "pElxyXahn_Qd"
      },
      "source": [
        "\n",
        "\n",
        "### P2.PY\n",
        "\n",
        "\n"
      ]
    },
    {
      "cell_type": "code",
      "execution_count": 5,
      "metadata": {
        "id": "EvUixIpCn_Qe",
        "colab": {
          "base_uri": "https://localhost:8080/"
        },
        "outputId": "0ec205c4-d54c-4a69-ee4a-86d2924db949"
      },
      "outputs": [
        {
          "output_type": "stream",
          "name": "stdout",
          "text": [
            "13\n",
            "blue\n"
          ]
        }
      ],
      "source": [
        "\"\"\"\n",
        "Basic Variables\n",
        "\"\"\"\n",
        "\n",
        "# Create a variable that represents your favorite number, and add a note to remind yourself what this variable represents. Now print it out without re-typing the number.\n",
        "\n",
        "favorite_number = 13\n",
        "print(favorite_number)\n",
        "\n",
        "# Create another variable that represents your favorite color, and do the same steps as above.\n",
        "\n",
        "favorite_color = \"blue\"\n",
        "print(favorite_color)\n",
        "\n",
        "\n"
      ]
    },
    {
      "cell_type": "markdown",
      "metadata": {
        "id": "fqvFr89Kn_Qe"
      },
      "source": [
        "\n",
        "\n",
        "### P3.PY\n",
        "\n",
        "\n"
      ]
    },
    {
      "cell_type": "code",
      "execution_count": 7,
      "metadata": {
        "id": "ohtRX19Nn_Qe",
        "colab": {
          "base_uri": "https://localhost:8080/"
        },
        "outputId": "4a14769e-89ae-47e2-e32c-4cdfbe077090"
      },
      "outputs": [
        {
          "output_type": "stream",
          "name": "stdout",
          "text": [
            "I used to count the stars in the sky\n",
            "Now I count the ones in your eyes\n",
            "I used to think that my paradise\n",
            "Was somewhere waiting on the other side\n",
            "\n"
          ]
        }
      ],
      "source": [
        "\"\"\"\n",
        "String Formatting\n",
        "\"\"\"\n",
        "\n",
        "# Create a variable that contains the first 4 lines of your favorite song. Add a comment that includes the song title and artist **each on their own line**! Now print out this variable.\n",
        "\n",
        "# Favorite Song: Heaven\n",
        "# Artist: Calum Scott\n",
        "favorite_song_lyrics = \"\"\"I used to count the stars in the sky\n",
        "Now I count the ones in your eyes\n",
        "I used to think that my paradise\n",
        "Was somewhere waiting on the other side\n",
        "\"\"\"\n",
        "\n",
        "\n",
        "print(favorite_song_lyrics)\n"
      ]
    },
    {
      "cell_type": "markdown",
      "metadata": {
        "id": "wOUHHD3En_Qe"
      },
      "source": [
        "\n",
        "\n",
        "## TYPECASTING\n",
        "\n",
        "### P1.PY\n",
        "\n",
        "\n"
      ]
    },
    {
      "cell_type": "code",
      "execution_count": 8,
      "metadata": {
        "id": "5fONvt99n_Qe",
        "colab": {
          "base_uri": "https://localhost:8080/"
        },
        "outputId": "2cb35dd1-a3fa-406f-dd48-f71248c7297a"
      },
      "outputs": [
        {
          "output_type": "stream",
          "name": "stdout",
          "text": [
            "Float value of five: 5.0 , Type: <class 'float'>\n",
            "Float value of zero: 0.0 , Type: <class 'float'>\n",
            "Float value of neg_8: -8.0 , Type: <class 'float'>\n",
            "Float value of neg_22: -22.0 , Type: <class 'float'>\n",
            "Interger value of five: 5 , Type: <class 'int'>\n",
            "Integer valye of zero 0 , Type: <class 'int'>\n",
            "Integer value of neg_8: -8 , Type: <class 'int'>\n",
            "Integer value of neg_22: -22 , Type: <class 'int'>\n"
          ]
        }
      ],
      "source": [
        "\"\"\"\n",
        "Typcasting w. Integers & Floats\n",
        "\"\"\"\n",
        "\n",
        "# Convert these numbers into floats and back. Print out each result as well as its data type.\n",
        "\n",
        "five = 5\n",
        "zero = 0\n",
        "neg_8 = -8\n",
        "neg_22 = -22\n",
        "\n",
        "# converting to float\n",
        "\n",
        "five_float = float(five)\n",
        "zero_float = float(zero)\n",
        "neg_8_float = float (neg_8)\n",
        "neg_22_float = float(neg_22)\n",
        "\n",
        "# printing the float\n",
        "\n",
        "print(\"Float value of five:\", five_float, \", Type:\", type(five_float))\n",
        "print(\"Float value of zero:\", zero_float,\", Type:\", type(zero_float))\n",
        "print(\"Float value of neg_8:\", neg_8_float, \", Type:\", type(neg_8_float))\n",
        "print(\"Float value of neg_22:\", neg_22_float, \", Type:\", type(neg_22_float))\n",
        "\n",
        "# coverting floats back\n",
        "\n",
        "five_int = int(five_float)\n",
        "zero_int = int(zero_float)\n",
        "neg_8_int = int(neg_8_float)\n",
        "neg_22_int = int(neg_22_float)\n",
        "\n",
        "\n",
        "print(\"Interger value of five:\",five_int, \", Type:\", type(five_int))\n",
        "print(\"Integer valye of zero\", zero_int,\", Type:\", type(zero_int))\n",
        "print(\"Integer value of neg_8:\", neg_8_int, \", Type:\", type(neg_8_int))\n",
        "print(\"Integer value of neg_22:\", neg_22_int, \", Type:\", type(neg_22_int))\n",
        "\n",
        "\n"
      ]
    },
    {
      "cell_type": "markdown",
      "metadata": {
        "id": "LPRroTcsn_Qf"
      },
      "source": [
        "\n",
        "\n",
        "### P2.PY\n",
        "\n",
        "\n"
      ]
    },
    {
      "cell_type": "code",
      "execution_count": 11,
      "metadata": {
        "id": "cD9NyohCn_Qf",
        "colab": {
          "base_uri": "https://localhost:8080/"
        },
        "outputId": "0b901537-0ce0-4078-d277-2fe6e1209627"
      },
      "outputs": [
        {
          "output_type": "stream",
          "name": "stdout",
          "text": [
            "5\n",
            "0\n",
            "-8\n",
            "True\n",
            "False\n",
            "<class 'str'>\n",
            "<class 'str'>\n",
            "<class 'str'>\n",
            "<class 'str'>\n",
            "<class 'str'>\n",
            "5\n",
            "0\n",
            "-8\n",
            "True\n",
            "False\n",
            "<class 'int'>\n",
            "<class 'int'>\n",
            "<class 'int'>\n",
            "<class 'bool'>\n",
            "<class 'bool'>\n"
          ]
        }
      ],
      "source": [
        "\"\"\"\n",
        "Typcasting w. Strings\n",
        "\"\"\"\n",
        "\n",
        "# Convert these variables into strings and then back to their original data types. Print out each result as well as its data type. What do you notice about the last one?\n",
        "\n",
        "five = 5\n",
        "zero = 0\n",
        "neg_8 = -8\n",
        "T = True\n",
        "F = False\n",
        "\n",
        "# convert to string\n",
        "\n",
        "five = str(five)\n",
        "zero = str(zero)\n",
        "neg_8 = str(neg_8)\n",
        "T = str(T)\n",
        "F = str(F)\n",
        "\n",
        "print(five)\n",
        "print(zero)\n",
        "print(neg_8)\n",
        "print(T)\n",
        "print(F)\n",
        "\n",
        "print(type(five))\n",
        "print(type(zero))\n",
        "print(type(neg_8))\n",
        "print(type(T))\n",
        "print(type(F))\n",
        "\n",
        "\n",
        "# convert back to original types\n",
        "\n",
        "five = int(five)\n",
        "zero = int(zero)\n",
        "neg_8 = int(neg_8)\n",
        "T = bool(eval(T))  # we have to use eval ro convert this since it's a boolean\n",
        "F = bool(eval(F))\n",
        "\n",
        "print(five)\n",
        "print(zero)\n",
        "print(neg_8)\n",
        "print(T)\n",
        "print(F)\n",
        "\n",
        "\n",
        "print(type(five))\n",
        "print(type(zero))\n",
        "print(type(neg_8))\n",
        "print(type(T))\n",
        "print(type(F))\n",
        "\n",
        "#"
      ]
    },
    {
      "cell_type": "markdown",
      "metadata": {
        "id": "fxExTMqmn_Qf"
      },
      "source": [
        "\n",
        "\n",
        "### P3.PY\n",
        "\n",
        "\n"
      ]
    },
    {
      "cell_type": "code",
      "execution_count": 16,
      "metadata": {
        "id": "_XWr2SHSn_Qf",
        "colab": {
          "base_uri": "https://localhost:8080/"
        },
        "outputId": "ad2e2fe1-ede6-47f0-87c1-98a9bd38a162"
      },
      "outputs": [
        {
          "output_type": "stream",
          "name": "stdout",
          "text": [
            "True\n",
            "False\n",
            "<class 'bool'>\n",
            "<class 'bool'>\n",
            "1.0\n",
            "0.0\n",
            "<class 'float'>\n",
            "<class 'float'>\n",
            "True\n",
            "False\n",
            "<class 'bool'>\n",
            "<class 'bool'>\n",
            "1\n",
            "0\n",
            "<class 'int'>\n",
            "<class 'int'>\n",
            "True\n",
            "<class 'bool'>\n"
          ]
        }
      ],
      "source": [
        "\"\"\"\n",
        "Booleans I - Typecasting w. Numbers\n",
        "\"\"\"\n",
        "\n",
        "# A) Use typecasting to turn these variables into boolean values. Print the result and the datatype of the result.\n",
        "\n",
        "one = 1\n",
        "zero = 0\n",
        "\n",
        "one = bool(one)\n",
        "zero = bool(zero)\n",
        "\n",
        "print(one)\n",
        "print(zero)\n",
        "\n",
        "print(type(one))\n",
        "print(type(zero))\n",
        "\n",
        "# B) Use typecasting to turn the resultant variables from part A into floats. Print the result and the datatype of the result.\n",
        "\n",
        "one = float(one)\n",
        "zero = float(zero)\n",
        "\n",
        "print(one)\n",
        "print(zero)\n",
        "\n",
        "print(type(one))\n",
        "print(type(zero))\n",
        "\n",
        "\n",
        "# C) Use typecasting to turn the resultant variables from part B back into booleans. Print the result and the datatype of the result.\n",
        "\n",
        "one = bool(one)\n",
        "zero = bool(zero)\n",
        "\n",
        "print(one)\n",
        "print(zero)\n",
        "\n",
        "print(type(one))\n",
        "print(type(zero))\n",
        "\n",
        "\n",
        "# C) Use typecasting to turn the resultant variables from part C into integers. Print the result and the datatype of the result.\n",
        "\n",
        "one = int(one)\n",
        "zero = int(zero)\n",
        "\n",
        "print(one)\n",
        "print(zero)\n",
        "\n",
        "print(type(one))\n",
        "print(type(zero))\n",
        "\n",
        "\n",
        "# E) Use typecasting to turn the variable below into a boolean value. Print the result and the datatype of the result.\n",
        "\n",
        "ten = 10\n",
        "\n",
        "ten = bool(10)\n",
        "print(ten)\n",
        "print(type(ten))\n",
        "\n"
      ]
    },
    {
      "cell_type": "markdown",
      "metadata": {
        "id": "9jLp7zmUn_Qf"
      },
      "source": [
        "\n",
        "\n",
        "### P4.PY\n",
        "\n",
        "\n"
      ]
    },
    {
      "cell_type": "code",
      "execution_count": 18,
      "metadata": {
        "id": "GOaYsqWfn_Qf",
        "colab": {
          "base_uri": "https://localhost:8080/"
        },
        "outputId": "c887a4bf-cb7e-4dc5-d948-e29f39850da3"
      },
      "outputs": [
        {
          "output_type": "stream",
          "name": "stdout",
          "text": [
            "True\n",
            "False\n",
            "<class 'bool'>\n",
            "<class 'bool'>\n",
            "1\n",
            "0\n",
            "<class 'int'>\n",
            "<class 'int'>\n",
            "True\n",
            "False\n",
            "<class 'bool'>\n",
            "<class 'bool'>\n"
          ]
        }
      ],
      "source": [
        "\"\"\"\n",
        "Booleans II - Typecasting w. Strings\n",
        "\"\"\"\n",
        "\n",
        "# A) Use typecasting to turn these variables into boolean values. Print the result and the datatype of the result.\n",
        "\n",
        "one = 1\n",
        "zero = 0\n",
        "bool_true = True\n",
        "bool_false = False\n",
        "\n",
        "one = bool(one)\n",
        "zero = bool (zero)\n",
        "\n",
        "print(one)\n",
        "print(zero)\n",
        "\n",
        "print(type(one))\n",
        "print(type(zero))\n",
        "\n",
        "# bool_true and bool_false aere already boolean values\n",
        "\n",
        "\n",
        "# B) Use typecasting to turn the latest values for variables 'one' and 'zero' back into integers. Print the result and the datatype of the result.\n",
        "\n",
        "one = int(one)\n",
        "zero = int(zero)\n",
        "\n",
        "print(one)\n",
        "print(zero)\n",
        "\n",
        "print(type(one))\n",
        "print(type(zero))\n",
        "\n",
        "\n",
        "\n",
        "# C) Use typecasting to turn the latest values for variables 'bool_true' and 'bool_false' back into boolean values. Print the result and the datatype of the result.\n",
        "\n",
        "# they are already booleans, but I can print their data types\n",
        "\n",
        "print(bool_true)\n",
        "print(bool_false)\n",
        "\n",
        "print(type(bool_true))\n",
        "print(type(bool_false))\n",
        "\n"
      ]
    },
    {
      "cell_type": "markdown",
      "metadata": {
        "id": "tIjIQYcTn_Qf"
      },
      "source": [
        "\n",
        "\n",
        "## OPERATORS\n",
        "\n",
        "### P1.PY\n",
        "\n",
        "\n"
      ]
    },
    {
      "cell_type": "code",
      "execution_count": 19,
      "metadata": {
        "id": "W2m_sxMpn_Qf",
        "colab": {
          "base_uri": "https://localhost:8080/"
        },
        "outputId": "391a4820-8524-4dc1-808d-b57c800d5f48"
      },
      "outputs": [
        {
          "output_type": "stream",
          "name": "stdout",
          "text": [
            "150\n",
            "60\n",
            "600\n",
            "4.0\n",
            "1.0\n"
          ]
        }
      ],
      "source": [
        "\"\"\"\n",
        "Integer & Float Operators\n",
        "\"\"\"\n",
        "\n",
        "# Complete the specified math operations. Do the next operation on the result from the previous operation.\n",
        "\n",
        "orig_var = 100\n",
        "\n",
        "# Add 50\n",
        "\n",
        "orig_var = orig_var + 50\n",
        "print(orig_var)\n",
        "\n",
        "\n",
        "# Subtract 90\n",
        "\n",
        "orig_var = orig_var - 90\n",
        "print(orig_var)\n",
        "\n",
        "\n",
        "# Multiply 10\n",
        "orig_var = orig_var * 10\n",
        "print(orig_var)\n",
        "\n",
        "\n",
        "\n",
        "# Divide 150\n",
        "\n",
        "orig_var = orig_var / 150\n",
        "print(orig_var)\n",
        "\n",
        "\n",
        "# Modulus 3\n",
        "\n",
        "orig_var = orig_var % 3\n",
        "print(orig_var)\n"
      ]
    },
    {
      "cell_type": "markdown",
      "metadata": {
        "id": "569KktGYn_Qf"
      },
      "source": [
        "\n",
        "\n",
        "### P2.PY\n",
        "\n",
        "\n"
      ]
    },
    {
      "cell_type": "code",
      "execution_count": 21,
      "metadata": {
        "id": "8hO2XzOpn_Qf",
        "colab": {
          "base_uri": "https://localhost:8080/"
        },
        "outputId": "452625ca-2f25-4b76-b92b-6caea18b06c4"
      },
      "outputs": [
        {
          "output_type": "stream",
          "name": "stdout",
          "text": [
            " I will go to london in the summer,  Well, I have already have been there before.\n"
          ]
        }
      ],
      "source": [
        "\"\"\"\n",
        "String Operators\n",
        "\"\"\"\n",
        "\n",
        "# Create two variables, each of which is half of a compound sentence. Do NOT add any punctuation up front. Add the two variables together, and print the result.\n",
        "## Example compound sentence: \"I'll go to the beach today, and I'll go snorkeling.\"\n",
        "\n",
        "var_1 = \" I will go to London in the summer\"\n",
        "var_2 = \" Well, I have already have been there before\"\n",
        "\n",
        "compound_sentence = var_1 + \", \" + var_2 + \".\"    # using the concatenation method learned from JS\n",
        "print(compound_sentence)"
      ]
    },
    {
      "cell_type": "markdown",
      "metadata": {
        "id": "3BgW1VzJn_Qf"
      },
      "source": [
        "\n",
        "\n",
        "### P3.PY\n",
        "\n",
        "\n"
      ]
    },
    {
      "cell_type": "code",
      "execution_count": 22,
      "metadata": {
        "id": "yvaADMg8n_Qf",
        "colab": {
          "base_uri": "https://localhost:8080/"
        },
        "outputId": "168616ae-840b-44a5-d1cc-f8dff7f3918d"
      },
      "outputs": [
        {
          "output_type": "stream",
          "name": "stdout",
          "text": [
            "2\n",
            "2\n",
            "2\n"
          ]
        }
      ],
      "source": [
        "\"\"\"\n",
        "Addition I - Numbers & Strings\n",
        "\"\"\"\n",
        "\n",
        "# Add the below sets of variables together.\n",
        "\n",
        "# A)\n",
        "a = 0\n",
        "b = 2\n",
        "\n",
        "print(a + b)\n",
        "\n",
        "\n",
        "# B)\n",
        "c = '0'\n",
        "d = '2'\n",
        "\n",
        "# convert string to integer\n",
        "c = int(c)\n",
        "d = int(d)\n",
        "\n",
        "print(c + d)\n",
        "\n",
        "\n",
        "# C)\n",
        "e = \"0\"\n",
        "f = 2\n",
        "\n",
        "# convert string to integer\n",
        "e = int(e)\n",
        "\n",
        "print(e + f)\n"
      ]
    },
    {
      "cell_type": "markdown",
      "metadata": {
        "id": "zN0JV2D8n_Qf"
      },
      "source": [
        "\n",
        "\n",
        "### P4.PY\n",
        "\n",
        "\n"
      ]
    },
    {
      "cell_type": "code",
      "execution_count": 23,
      "metadata": {
        "id": "C2i2CBbOn_Qf",
        "colab": {
          "base_uri": "https://localhost:8080/"
        },
        "outputId": "6de1f2b9-fca2-4d72-ff85-901866a29b59"
      },
      "outputs": [
        {
          "output_type": "stream",
          "name": "stdout",
          "text": [
            "2\n",
            "0\n",
            "1\n"
          ]
        }
      ],
      "source": [
        "\"\"\"\n",
        "Addition II - Booleans\n",
        "\"\"\"\n",
        "\n",
        "# Add the below sets of variables together.\n",
        "\n",
        "# A)\n",
        "a = True\n",
        "b = True\n",
        "\n",
        "print(a + b)\n",
        "\n",
        "\n",
        "\n",
        "# B)\n",
        "c = False\n",
        "d = False\n",
        "\n",
        "print(c + d)\n",
        "\n",
        "\n",
        "\n",
        "# C)\n",
        "e = True\n",
        "f = False\n",
        "\n",
        "print(e + f)"
      ]
    },
    {
      "cell_type": "markdown",
      "metadata": {
        "id": "Btv3b9x-n_Qg"
      },
      "source": [
        "\n"
      ]
    }
  ]
}