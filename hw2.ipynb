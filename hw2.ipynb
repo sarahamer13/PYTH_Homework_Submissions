{
  "nbformat": 4,
  "nbformat_minor": 0,
  "metadata": {
    "colab": {
      "provenance": []
    },
    "kernelspec": {
      "name": "python3",
      "display_name": "Python 3"
    },
    "language_info": {
      "name": "python"
    }
  },
  "cells": [
    {
      "cell_type": "code",
      "execution_count": null,
      "metadata": {
        "id": "RQITynCmAjLE"
      },
      "outputs": [],
      "source": []
    },
    {
      "cell_type": "markdown",
      "metadata": {
        "id": "XGWeSfuDAaLD"
      },
      "source": [
        "<a href=\"https://colab.research.google.com/github/mottaquikarim/PYTH2/blob/master/src/PSETS/nb/hw2.ipynb\" target=\"_parent\"><img src=\"https://colab.research.google.com/assets/colab-badge.svg\" alt=\"Open In Colab\"/></a>"
      ]
    },
    {
      "cell_type": "markdown",
      "metadata": {
        "id": "yHAB1V0vAaLE"
      },
      "source": [
        "#  LISTS\n",
        "\n",
        "## LIST_MANIPULATION\n",
        "\n",
        "### P1.PY Phone Numbers\n"
      ]
    },
    {
      "cell_type": "code",
      "execution_count": null,
      "metadata": {
        "id": "MgJXh3hIAaLE",
        "colab": {
          "base_uri": "https://localhost:8080/"
        },
        "outputId": "75e8ef32-5667-4082-8511-56396cfb4d1f"
      },
      "outputs": [
        {
          "output_type": "stream",
          "name": "stdout",
          "text": [
            "11921680143\n"
          ]
        }
      ],
      "source": [
        "\"\"\"\n",
        "Phone Numbers\n",
        "\"\"\"\n",
        "\n",
        "# Parse this phone number so that a computer can process\n",
        "# it. (Hint: It can't include any non-numeric\n",
        "# characters.)\n",
        "\n",
        "cell = '1.192.168.0143'\n",
        "mycell = cell.replace('.', '')\n",
        "print(mycell)\n",
        "\n",
        "# replace will remove the non-numeric and will produce numeric phone number only"
      ]
    },
    {
      "cell_type": "markdown",
      "metadata": {
        "id": "g-4e1-G2AaLE"
      },
      "source": [
        "\n",
        "\n",
        "### P2.PY Basic Math Ops\n",
        "\n",
        "\n"
      ]
    },
    {
      "cell_type": "code",
      "execution_count": 2,
      "metadata": {
        "id": "iVgYuyd0AaLF",
        "colab": {
          "base_uri": "https://localhost:8080/"
        },
        "outputId": "4c828cd9-3ded-4348-acdf-16cb6641aa6c"
      },
      "outputs": [
        {
          "output_type": "stream",
          "name": "stdout",
          "text": [
            "my_sum = 174\n",
            "my_min = 2\n",
            "my_max = 30\n",
            "my_range = 28\n",
            "my_mean = 17.4\n"
          ]
        }
      ],
      "source": [
        "\"\"\"\n",
        "Basic Math Ops\n",
        "\"\"\"\n",
        "\n",
        "# Given the list below, assign the correct values to the variables below.\n",
        "\t# my_sum =\n",
        "\t# my_min =\n",
        "\t# my_max =\n",
        "\t# my_range =\n",
        "\t# my_mean =\n",
        "\n",
        "nums = [2, 19, 20, 12, 6, 24, 8, 30, 28, 25]\n",
        "\n",
        "\n",
        "# Once you finish, print out each value **on its own line** in this format: \"my_median = \" etc.\n",
        "\n",
        "my_sum = sum(nums)\n",
        "my_min = min(nums)\n",
        "my_max = max(nums)\n",
        "my_range = max(nums) - min(nums)\n",
        "my_mean = sum(nums) / len(nums)\n",
        "\n",
        "print(f\"my_sum = {my_sum}\")\n",
        "print(f\"my_min = {my_min}\")\n",
        "print(f\"my_max = {my_max}\")\n",
        "print(f\"my_range = {my_range}\")\n",
        "print(f\"my_mean = {my_mean}\")\n"
      ]
    },
    {
      "cell_type": "markdown",
      "metadata": {
        "id": "Clqo9gCLAaLF"
      },
      "source": [
        "\n",
        "\n",
        "### P3.PY Merge Lists with Duplicates\n",
        "\n"
      ]
    },
    {
      "cell_type": "code",
      "execution_count": 3,
      "metadata": {
        "id": "wBHsgBiYAaLF",
        "colab": {
          "base_uri": "https://localhost:8080/"
        },
        "outputId": "6a9b1ae1-d80c-4818-d3ca-01c19c9fe30e"
      },
      "outputs": [
        {
          "output_type": "stream",
          "name": "stdout",
          "text": [
            "[2, 8, 6, 2, 8, 6]\n",
            "[2, 8, 6, 10, 4, 12]\n",
            "[13, 16, 9, 6, 2, 8, 6]\n",
            "[13, 16, 9, 6, 2, 8, 6, 2, 8, 6, 10, 4, 12]\n"
          ]
        }
      ],
      "source": [
        "\"\"\"\n",
        "Merge Lists with Duplicates\n",
        "\"\"\"\n",
        "\n",
        "# Use the two lists below to solve this problem. Print out the result from each section as you go along.\n",
        "\n",
        "list1, list2 = [2, 8, 6], [10, 4, 12]\n",
        "\n",
        "\n",
        "# A) Add another instance of each item in list1 to list1 again and assign the results to list3.\n",
        "list3 = list1 + list1\n",
        "print(list3)\n",
        "\n",
        "\n",
        "# B) Combine the two given lists and assign them to list4.\n",
        "list4 = list1 + list2\n",
        "print(list4)\n",
        "\n",
        "\n",
        "# C) Replace the first 3 items in list 3 with the numbers 13, 16, 9.\n",
        "list3[:2] = [13, 16, 9]\n",
        "print(list3)\n",
        "\n",
        "# D) Merge list3 and list4 to create a list containing no duplicates and store this in list5.\n",
        "list5 = list3 + list4\n",
        "print(list5)\n",
        "\n",
        "\n",
        "# Take a look at your printed statements to see the evolution of your lists with each step of this problem.\n"
      ]
    },
    {
      "cell_type": "markdown",
      "metadata": {
        "id": "DuTlplGkAaLF"
      },
      "source": [
        "\n",
        "\n",
        "### P4.PY Spotify Playlists - Sorting\n"
      ]
    },
    {
      "cell_type": "code",
      "execution_count": null,
      "metadata": {
        "id": "7AP2pt0zAaLF",
        "colab": {
          "base_uri": "https://localhost:8080/"
        },
        "outputId": "b5d9e20c-0c01-4fdb-8216-e960beeb2316"
      },
      "outputs": [
        {
          "output_type": "stream",
          "name": "stdout",
          "text": [
            "['At Last', 'Dancing in the Moonlight', 'Fortunate Son', 'Hey Jude', \"I'm Yours\", \"Isn't She Lovely\", 'Just the Way You Are', 'Roxanne', 'Tiny Dancer', 'Vienna']\n",
            "['Vienna', 'Tiny Dancer', 'Roxanne', 'Just the Way You Are', \"Isn't She Lovely\", \"I'm Yours\", 'Hey Jude', 'Fortunate Son', 'Dancing in the Moonlight', 'At Last']\n"
          ]
        }
      ],
      "source": [
        "\"\"\"\n",
        "Spotify Playlists - Sorting\n",
        "\"\"\"\n",
        "\n",
        "# You work for Spotify and are creating a feature for users to alphabetize their playlists by song title. Below is a list of titles from a sample playlist.\n",
        "\n",
        "playlist_titles = ['Tiny Dancer', 'At Last', 'Fortunate Son',\n",
        "'Hey Jude', 'Isn\\'t She Lovely', 'Just the Way You Are', 'I\\'m Yours',\n",
        "'Vienna', 'Roxanne', 'Dancing in the Moonlight']\n",
        "\n",
        "# Alphabetize these songs and print the result.\n",
        "\n",
        "playlist_titles.sort()\n",
        "print(playlist_titles)\n",
        "\n",
        "playlist_titles.sort(reverse=True)\n",
        "print(playlist_titles)\n",
        "\n",
        "# using .sort will sort alphabetically then using reverse to reverse them\n",
        "# Now do the reverse."
      ]
    },
    {
      "cell_type": "markdown",
      "metadata": {
        "id": "bAGTOQZIAaLF"
      },
      "source": [
        "\n",
        "\n",
        "### P5.PY Cool Runnings!\n"
      ]
    },
    {
      "cell_type": "code",
      "execution_count": 6,
      "metadata": {
        "id": "Mi0udISqAaLG",
        "colab": {
          "base_uri": "https://localhost:8080/"
        },
        "outputId": "8d6574fc-22d9-4bfa-d608-71f59263cabc"
      },
      "outputs": [
        {
          "output_type": "stream",
          "name": "stdout",
          "text": [
            "['Feel', 'the', 'rhythm.', 'Feel', 'the', 'rhyme.', 'Get', 'on', 'up.', \"It's\", 'Yolo', 'time!']\n",
            "Feel the rhythm. Feel the rhyme. Get on up. It's Yolo time!\n"
          ]
        }
      ],
      "source": [
        "\"\"\"\n",
        "Cool Runnings!\n",
        "\"\"\"\n",
        "\n",
        "# Here's a quote from the movie 'Cool Runnings'. :)\n",
        "\n",
        "# Replace the word bobsled with \"YOLO\" and print the resultant list as 4 sentences (i.e. NOT a list), each on a new line.\n",
        "\n",
        "cool_runnings = [\n",
        "\t'Feel', 'the', 'rhythm.',\n",
        "\t'Feel', 'the', 'rhyme.',\n",
        "\t'Get', 'on', 'up.',\n",
        "\t'It\\'s', 'bobsled', 'time!'\n",
        "]\n",
        "\n",
        "cool_runnings[10] = 'Yolo' # refering to index 10\n",
        "print(cool_runnings)\n",
        "\n",
        "new_sentence = ' '.join(cool_runnings)\n",
        "print(new_sentence)\n"
      ]
    },
    {
      "cell_type": "markdown",
      "metadata": {
        "id": "7ZxgnFZVAaLG"
      },
      "source": [
        "\n",
        "\n",
        "## LIST_CHALLENGES\n",
        "\n",
        "### P1.PY CHALLENGE - Extensions\n"
      ]
    },
    {
      "cell_type": "code",
      "execution_count": 16,
      "metadata": {
        "id": "aXqmA_7TAaLG",
        "colab": {
          "base_uri": "https://localhost:8080/"
        },
        "outputId": "f777308e-9f9f-4097-e06c-5569184720d7"
      },
      "outputs": [
        {
          "output_type": "stream",
          "name": "stdout",
          "text": [
            "[6, 12, 9, 4, 10, 1, 15, 3, 6, 2, 1, 8]\n"
          ]
        }
      ],
      "source": [
        "\"\"\"\n",
        "CHALLENGE - Extensions\n",
        "\"\"\"\n",
        "\n",
        "# ** Challenge** Add each element of the tuple1 to list1 *individually* and print the result.\n",
        "\n",
        "list1 = [6, 12, 9, 4, 10, 1]\n",
        "tuple1 = [(15,3), (6,2), (1, 8)]\n",
        "\n",
        "list2 = []\n",
        "list2.extend(tuple1[0])\n",
        "list2.extend(tuple1[1])\n",
        "list2.extend(tuple1[2])\n",
        "\n",
        "list1.extend(list2)\n",
        "print(list1)\n"
      ]
    },
    {
      "cell_type": "markdown",
      "metadata": {
        "id": "9Y6rkWDeAaLG"
      },
      "source": [
        "\n",
        "\n",
        "### P2.PY CHALLENGE - Core Statistics Calculations\n"
      ]
    },
    {
      "cell_type": "code",
      "execution_count": 24,
      "metadata": {
        "id": "1haLFdBfAaLG",
        "colab": {
          "base_uri": "https://localhost:8080/"
        },
        "outputId": "b828316c-c2d2-41f0-dcfa-c1b3af3212f4"
      },
      "outputs": [
        {
          "output_type": "stream",
          "name": "stdout",
          "text": [
            "my_mean = 17.8\n",
            "my_median = 19.5\n",
            "my_mode = None\n",
            "my_variance = 75.76\n",
            "my_sd = 8.704022058795578\n"
          ]
        }
      ],
      "source": [
        "\"\"\"\n",
        "CHALLENGE - Core Statistics Calculations\n",
        "\"\"\"\n",
        "import numpy as np\n",
        "from scipy import stats\n",
        "\n",
        "# Given the sample below, find the mean, median, mode, variance, and standard deviation of this sample. Print them out separately, but in the same format as before.\n",
        "\t# my_median =\n",
        "\t# my_mode =\n",
        "\t# my_variance =\n",
        "\t# my_sd =\n",
        "\n",
        "sample = [6, 19, 20, 12, 6, 24, 8, 30, 28, 25]\n",
        "\n",
        "# Calculate mean\n",
        "my_mean = np.mean(sample)\n",
        "\n",
        "# Calculate median\n",
        "my_median = np.median(sample)\n",
        "\n",
        "# Calculate mode\n",
        "mode_result = stats.mode(sample)\n",
        "try:\n",
        "    my_mode = mode_result.mode[0]  # Accessing the mode directly\n",
        "except IndexError:\n",
        "    my_mode = None  # No mode found\n",
        "# Calculate variance\n",
        "my_variance = np.var(sample)\n",
        "\n",
        "# Calculate standard deviation\n",
        "my_sd = np.std(sample)\n",
        "\n",
        "\n",
        "print(\"my_mean =\", my_mean)\n",
        "print(\"my_median =\", my_median)\n",
        "print(\"my_mode =\", my_mode)\n",
        "print(\"my_variance =\", my_variance)\n",
        "print(\"my_sd =\", my_sd)\n",
        "\n",
        "\n",
        "\n",
        "\n",
        "# Once you finish, print out each value **on its own line** in this format: \"median = \" etc.\n"
      ]
    },
    {
      "cell_type": "markdown",
      "metadata": {
        "id": "Rbhhh3qAAaLG"
      },
      "source": [
        "\n",
        "\n",
        "#  DICTS\n",
        "\n",
        "## DICT_OPS\n",
        "\n",
        "### P1.PY Basic Dict Concepts\n"
      ]
    },
    {
      "cell_type": "code",
      "execution_count": null,
      "metadata": {
        "id": "9pWFcwcWAaLG",
        "colab": {
          "base_uri": "https://localhost:8080/"
        },
        "outputId": "188171ed-c6d9-47fe-91bd-6c87e9faad09"
      },
      "outputs": [
        {
          "output_type": "stream",
          "name": "stdout",
          "text": [
            "{'Anthony': 'Paollelo', 'Ping': 'Qiao', 'Enrique': 'Alvarez', 'Arjun': 'Dhir'}\n",
            "{'Anthony': 'Paollelo', 'Ping': 'Qiao', 'Enrique': 'Alvarez', 'Arjun': 'Dhir', 'Allison': 'Zhang'}\n",
            "5\n",
            "dict_keys(['Anthony', 'Ping', 'Enrique', 'Arjun', 'Allison'])\n",
            "('Allison', 'Zhang')\n"
          ]
        }
      ],
      "source": [
        "\"\"\"\n",
        "Basic Dict Concepts\n",
        "\"\"\"\n",
        "\n",
        "# A) Declare an empty dict as d1.\n",
        "\n",
        "d1 = {}\n",
        "\n",
        "# B) Create a dict called d2 containing the first and last names below:\n",
        "# Anthony Paollelo, Ping Qiao, Enrique Alvarez, Arjun Dhir\n",
        "\n",
        "d2 = {\n",
        "    'Anthony' : 'Paollelo',\n",
        "    'Ping' : 'Qiao',\n",
        "    'Enrique' : 'Alvarez',\n",
        "    'Arjun' : 'Dhir'\n",
        "}\n",
        "\n",
        "print (d2)\n",
        "\n",
        "# C) Add Allison Zhang person to d2.\n",
        "\n",
        "d2['Allison'] = 'Zhang'\n",
        "print(d2)\n",
        "\n",
        "# D) How many people are now in d2? Print out all their *first* names in the vars below.\n",
        "\n",
        "\n",
        "num_people = len(d2)\n",
        "print(\"Number of people in d2:\", num_people)\n",
        "\n",
        "\n",
        "first_names = d2.keys()\n",
        "print(\"First name:\", list(first_names))\n",
        "\n",
        "\n",
        "# E) Delete a random person from d2 and print his/her name in the var below.\n",
        "\n",
        "x = d2.popitem()\n",
        "print(x)\n",
        "\n",
        "\n",
        "\n",
        "# F) Re-add the name you deleted to the end of d2.\n",
        "\n",
        "d2['Allison'] = 'Zhang'\n",
        "\n",
        "\n"
      ]
    },
    {
      "cell_type": "markdown",
      "metadata": {
        "id": "2Zgps6tgAaLG"
      },
      "source": [
        "\n",
        "\n",
        "### P2.PY Merging Dicts\n",
        "\n",
        "\n"
      ]
    },
    {
      "cell_type": "code",
      "execution_count": null,
      "metadata": {
        "id": "yyWhcXiKAaLG",
        "colab": {
          "base_uri": "https://localhost:8080/"
        },
        "outputId": "355caefd-70ee-4dd0-a84a-9f3eac589966"
      },
      "outputs": [
        {
          "output_type": "stream",
          "name": "stdout",
          "text": [
            "{'a': 100, 'b': 200, 'c': 300, 'd': 400, 'e': 500}\n"
          ]
        }
      ],
      "source": [
        "\"\"\"\n",
        "Merging Dicts\n",
        "\"\"\"\n",
        "\n",
        "# Merge these two dicts without creating a new one.\n",
        "\n",
        "d1 = {'a': 100, 'b': 200}\n",
        "d2 = {'c': 300, 'd': 400, 'e': 500}\n",
        "\n",
        "d1.update(d2)\n",
        "print(d1)\n",
        "\n"
      ]
    },
    {
      "cell_type": "markdown",
      "metadata": {
        "id": "26TXMi-aAaLG"
      },
      "source": [
        "\n",
        "\n",
        "### P3.PY Math with Girl Scout Cookies\n",
        "\n",
        "\n"
      ]
    },
    {
      "cell_type": "code",
      "execution_count": 19,
      "metadata": {
        "id": "Vu9kJSGCAaLG",
        "colab": {
          "base_uri": "https://localhost:8080/"
        },
        "outputId": "3565851b-8e31-4fe9-a439-09ff7caea977"
      },
      "outputs": [
        {
          "output_type": "stream",
          "name": "stdout",
          "text": [
            "25\n",
            "26\n",
            "42\n",
            "30\n",
            "30\n",
            "This year we sold 93\n"
          ]
        }
      ],
      "source": [
        "\"\"\"\n",
        "Math with Girl Scout Cookies\n",
        "\"\"\"\n",
        "\n",
        "# Print out the number of boxes of girl scout cookies that each girl in the troop sold in the below format:\n",
        "# Wendy: _____\n",
        "# Connie: _____\n",
        "# Francesca: _____\n",
        "\n",
        "Wendy = {'tagalongs': 5, 'thin mints': 12, 'samoas': 8}\n",
        "Connie = {'tagalongs': 10, 'thin mints': 4, 'samoas': 12}\n",
        "Francesca = {'tagalongs': 18, 'thin mints': 14, 'samoas': 10}\n",
        "\n",
        "salesW = sum(Wendy.values())\n",
        "salesC = sum(Connie.values())\n",
        "salesF = sum(Francesca.values())\n",
        "\n",
        "print(salesW)\n",
        "print(salesC)\n",
        "print(salesF)\n",
        "\n",
        "\n",
        "# For each type of girl scout cookie, print out the total number of boxes sold in the below format:\n",
        "\t# tagalongs: _____\n",
        "\t# thin mints: _____\n",
        "\t# samoas: _____\n",
        "\n",
        "total_tagalongs = Wendy['tagalongs'] + Connie['tagalongs'] + Francesca['tagalongs']\n",
        "\n",
        "total_thin_mints = Wendy['thin mints'] + Connie['thin mints'] + Francesca ['thin mints']\n",
        "print(total_thin_mints)\n",
        "\n",
        "\n",
        "total_samoas = Wendy['samoas'] + Connie['samoas'] + Francesca['samoas']\n",
        "print(total_samoas)\n",
        "\n",
        "\n",
        "\n",
        "# For each type of girl scout cookie, print out the average number of boxes sold in the below format:\n",
        "\t# tagalongs: _____\n",
        "\t# thin mints: _____\n",
        "\t# samoas: _____\n",
        "\n",
        "avg_tagalongs = total_tagalongs / 3\n",
        "avg_thinmints = total_thin_mints / 3\n",
        "avg_samoas = total_samoas / 3\n",
        "\n",
        "# Print out total the number of boxes of cookies the girls sold collectively as follows:\n",
        "\t# \"This year we sold ______ boxes!\"\n",
        "\n",
        "boxes_sold = salesW + salesC + salesF\n",
        "print(f'This year we sold {boxes_sold}')"
      ]
    },
    {
      "cell_type": "markdown",
      "metadata": {
        "id": "OAvr_PKoAaLH"
      },
      "source": [
        "\n",
        "\n",
        "### P4.PY Inverting Keys & Values\n",
        "\n",
        "\n"
      ]
    },
    {
      "cell_type": "code",
      "execution_count": null,
      "metadata": {
        "id": "7mziNnUsAaLH",
        "colab": {
          "base_uri": "https://localhost:8080/"
        },
        "outputId": "dc36255d-b7d1-44f2-a4b5-d5270e83d1f9"
      },
      "outputs": [
        {
          "output_type": "stream",
          "name": "stdout",
          "text": [
            "{'v1': 'k3', 'v2': 'k2'}\n"
          ]
        }
      ],
      "source": [
        "\"\"\"\n",
        "Inverting Keys & Values\n",
        "\"\"\"\n",
        "\n",
        "# Invert dict1 - make the current keys into values and the current values into keys.\n",
        "\n",
        "\n",
        "dict1 = { \"k1\" : \"v1\", \"k2\" : \"v2\", \"k3\" : \"v1\" }\n",
        "\n",
        "inverted_dict = {value: key for key, value in dict1.items()}   # using this method will ensure if two keys have the same value, only one will be kept\n",
        "print(inverted_dict)\n",
        "\n"
      ]
    },
    {
      "cell_type": "markdown",
      "metadata": {
        "id": "JVVfPZIXAaLH"
      },
      "source": [
        "\n",
        "\n",
        "### P5.PY Lists to Dicts\n",
        "\n",
        "\n"
      ]
    },
    {
      "cell_type": "code",
      "execution_count": null,
      "metadata": {
        "id": "JlddljmhAaLH",
        "colab": {
          "base_uri": "https://localhost:8080/"
        },
        "outputId": "7c2e2472-df71-4ba1-bc0e-42c352adb3ff"
      },
      "outputs": [
        {
          "output_type": "stream",
          "name": "stdout",
          "text": [
            "[('Taq', [98, 89, 92, 94]), ('Zola', [86, 45, 98, 100]), ('Valerie', [100, 100, 100, 100]), ('Valerie', [76, 79, 80, 82])]\n"
          ]
        }
      ],
      "source": [
        "\"\"\"\n",
        "Lists to Dicts\n",
        "\"\"\"\n",
        "\n",
        "# Turn these two lists into a dict called grades.\n",
        "\n",
        "names = ['Taq', 'Zola', 'Valerie', 'Valerie']\n",
        "scores = [[98, 89, 92, 94], [86, 45, 98, 100], [100, 100, 100, 100], [76, 79, 80, 82]]\n",
        "\n",
        "grades = zip(names, scores) # using the zip method to combine the names withe grades. The end result will be a tuple\n",
        "print(list(grades))"
      ]
    },
    {
      "cell_type": "markdown",
      "metadata": {
        "id": "xVKnIhlYAaLH"
      },
      "source": [
        "\n",
        "\n",
        "## SEARCH_VALIDATION\n",
        "\n",
        "### P1.PY Login Credentials\n",
        "\n",
        "\n"
      ]
    },
    {
      "cell_type": "code",
      "execution_count": null,
      "metadata": {
        "id": "VKCflIDUAaLH",
        "colab": {
          "base_uri": "https://localhost:8080/"
        },
        "outputId": "55fb52ed-82ae-4832-be5c-873fa38b4bfa"
      },
      "outputs": [
        {
          "output_type": "stream",
          "name": "stdout",
          "text": [
            "The login info you entered does not match any of our records!\n"
          ]
        }
      ],
      "source": [
        "\"\"\"\n",
        "Login Credentials\n",
        "\"\"\"\n",
        "\n",
        "# Imagine you work for a movie streaming service. You're in charge of safeguarding user privacy by ensuring the login feature remains secure. For the sake of example only, below is the dict of user login info. Normally, you wouldn't have access to see this unencrypted of course!\n",
        "\n",
        "users = {\n",
        "\t'person@email.com': 'PassWord',\n",
        "\t'someone@email.com': 'hiitsme',\n",
        "\t'me@email.com': 'myPassword',\n",
        "\t'anyone@email.com': 'IMawesome',\n",
        "\t'guy@email.com': 'pa$$wordz'\n",
        "\t# etc\n",
        "}\n",
        "\n",
        "\n",
        "# A user enters the below login info (email and password) for your app. Search your database of user logins to see if this account exists and if the password matches what you have on file. If the login credentials are correct, print \"Successful login!\". Otherwise, print \"The login info you entered does not match any of our records.\"\n",
        "\n",
        "# current_user = { 'me@email.com': 'myPassword' }\n",
        "\n",
        "current_user_email = 'me@email.com'\n",
        "current_user_password = 'password'\n",
        "\n",
        "# will use if and else\n",
        "\n",
        "if current_user_email in users:\n",
        "    if users[current_user_email] == current_user_password:\n",
        "        print(\"Successful login!\")\n",
        "    else:\n",
        "        print(\"The login info you entered does not match any of our records!\")\n",
        "else:\n",
        "    print(\"The login info you entered does not match any of our records!\")\n"
      ]
    },
    {
      "cell_type": "markdown",
      "metadata": {
        "id": "var0bgfYAaLH"
      },
      "source": [
        "\n",
        "\n",
        "## COUNTERS_CHALLENGE\n",
        "\n",
        "### P1.PY CHALLENGE - Word Frequency\n",
        "\n",
        "\n"
      ]
    },
    {
      "cell_type": "code",
      "execution_count": 12,
      "metadata": {
        "id": "nXqKidqwAaLH",
        "colab": {
          "base_uri": "https://localhost:8080/"
        },
        "outputId": "5fff1929-1d9d-448c-8fa3-85f981d6a6dd"
      },
      "outputs": [
        {
          "output_type": "stream",
          "name": "stdout",
          "text": [
            "my\n"
          ]
        }
      ],
      "source": [
        "\"\"\"\n",
        "CHALLENGE - Word Frequency\n",
        "\"\"\"\n",
        "\n",
        "# Print out the number of words in this movie quote. Find and print out the most common word in the quote and how many times it was used.\n",
        "### Hint: You do not need a loop for this. Look up the Counter docs in python3.\n",
        "\n",
        "from collections import Counter\n",
        "\n",
        "princess_bride = [\n",
        "'Hello', 'my', 'name', 'is', 'Inigo', 'Montoya',\n",
        "'You', 'killed', 'my', 'father',\n",
        "'Prepare', 'to', 'die'\n",
        "]\n",
        "\n",
        "word_counts = Counter(princess_bride)\n",
        "most_common_word = word_counts.most_common(1)[0][0]\n",
        "print(most_common_word)\n",
        "\n",
        "# p.s. You might use this to help analyze the most common topic in comments or reviews from your users to help understand the best places to improve you product."
      ]
    },
    {
      "cell_type": "markdown",
      "metadata": {
        "id": "5DJt_x4yAaLH"
      },
      "source": [
        "\n",
        "\n",
        "### P2.PY CHALLENGE - Summing Dict Values\n",
        "\n",
        "\n"
      ]
    },
    {
      "cell_type": "code",
      "execution_count": 7,
      "metadata": {
        "id": "5Liji7IXAaLH",
        "colab": {
          "base_uri": "https://localhost:8080/"
        },
        "outputId": "c44ae3a1-43ee-4543-84bc-b2049341e124"
      },
      "outputs": [
        {
          "output_type": "stream",
          "name": "stdout",
          "text": [
            "{'apples': 14, 'bananas': 18, 'clementines': 8}\n"
          ]
        }
      ],
      "source": [
        "\"\"\"\n",
        "CHALLENGE - Summing Dict Values\n",
        "\"\"\"\n",
        "\n",
        "# Two Kindergarten teachers poll their classes for what fruit they want to eat for snacktime tomorrow. Only one of them is going shopping, so she needs to know how many of each fruit she needs to buy in total. Tally these up and assign them to the \"shopping_list\" dict.\n",
        "\n",
        "poll1 = {'apples': 8, 'bananas': 12}\n",
        "poll2 = {'apples': 6, 'bananas': 6, 'clementines': 8}\n",
        "\n",
        "for fruits in poll2:\n",
        "  if fruits in poll1:\n",
        "    poll2[fruits] = poll2[fruits] + poll1[fruits]\n",
        "  else:\n",
        "    pass\n",
        "\n",
        "print(poll2)\n",
        "\n"
      ]
    },
    {
      "cell_type": "markdown",
      "metadata": {
        "id": "R4Hs8yp6AaLH"
      },
      "source": [
        "\n"
      ]
    }
  ]
}