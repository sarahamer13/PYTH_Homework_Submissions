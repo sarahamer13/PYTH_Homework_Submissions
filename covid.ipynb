{
  "cells": [
    {
      "cell_type": "markdown",
      "metadata": {
        "id": "HuW-73u9MrOf"
      },
      "source": [
        "<img src=\"http://imgur.com/1ZcRyrc.png\" style=\"float: left; margin: 20px; height: 55px\">\n",
        "\n",
        "# Project 2: Analyzing Covid-19 Data\n",
        "\n",
        "_Author: B Rhodes (DC)_\n",
        "\n",
        "---"
      ]
    },
    {
      "cell_type": "markdown",
      "metadata": {
        "id": "9xcBFpLBMrOg"
      },
      "source": [
        "For Project 2, you'll be using Python to perform fundamental exploratory data analysis (EDA) tasks. In the other notebook in this project, we can use Pandas, but this notebook you should only use Python. The purpose here is to flex your Python muscles while thinking about data.\n",
        "\n",
        "Below you'll import a data file with information on Covid-19 in a number of patients from the Cleveland Clinic. The original data along with a data dictionary can be found at the [John Hopkins University: CSSEGISandData/COVID-19](https://github.com/CSSEGISandData/COVID-19/tree/master/csse_covid_19_data).\n",
        "\n",
        "\n",
        "For these exercises, you will conduct basic exploratory data analysis using Python (Pandas is not allowed for this notebook). The goal is to understand the some fundamentals of the COVID-19 data: These exercises will allow you to practice business analysis skills while also becoming more comfortable with Python."
      ]
    },
    {
      "cell_type": "markdown",
      "metadata": {
        "id": "gc_QSshFMrOg"
      },
      "source": [
        "---\n",
        "\n",
        "## Part 1: Load the data & initial exploration"
      ]
    },
    {
      "cell_type": "markdown",
      "metadata": {
        "id": "qLvQPDXRMrOg"
      },
      "source": [
        "### Problem 1: Load the file and store it in an object called `covid_csv`.\n",
        "\n",
        "Hint: This is a csv (comma-separated value) file, so we'll use `csv.reader()`\n",
        "\n",
        "See: [Python Docs - csv](https://docs.python.org/2/library/csv.html).\n",
        "\n"
      ]
    },
    {
      "cell_type": "code",
      "execution_count": null,
      "metadata": {
        "ExecuteTime": {
          "end_time": "2020-08-14T08:48:00.803445Z",
          "start_time": "2020-08-14T08:48:00.786213Z"
        },
        "id": "Wrf2J3spMrOg"
      },
      "outputs": [],
      "source": [
        "import csv\n",
        "\n",
        "# import namedtuple as an option to store the data rows\n",
        "from collections import namedtuple, defaultdict\n",
        "\n",
        "DATA_FILE = './data/covid.csv'\n"
      ]
    },
    {
      "cell_type": "markdown",
      "metadata": {
        "id": "tIQDmChHMrOh"
      },
      "source": [
        "#### Load the data"
      ]
    },
    {
      "cell_type": "code",
      "execution_count": 2,
      "metadata": {
        "ExecuteTime": {
          "end_time": "2020-08-14T08:48:35.742763Z",
          "start_time": "2020-08-14T08:48:35.712230Z"
        },
        "id": "cZGJOWuHMrOh",
        "colab": {
          "base_uri": "https://localhost:8080/",
          "height": 206
        },
        "outputId": "55c2ffbd-8612-4ec5-b4a6-e75c8653ebe5"
      },
      "outputs": [
        {
          "output_type": "execute_result",
          "data": {
            "text/plain": [
              "  Combined_Key Country_Region  Confirmed  Deaths  Recovered  Active  \\\n",
              "0  Afghanistan    Afghanistan      37345    1354      26694  9297.0   \n",
              "1      Albania        Albania       6817     208       3552  3057.0   \n",
              "2      Algeria        Algeria      36699    1333      25627  9739.0   \n",
              "3      Andorra        Andorra        977      53        855    69.0   \n",
              "4       Angola         Angola       1762      80        577  1105.0   \n",
              "\n",
              "   Incidence_Rate  Case_Fatality_Ratio  \n",
              "0       95.932678             3.625653  \n",
              "1      236.882341             3.051196  \n",
              "2       83.690142             3.632252  \n",
              "3     1264.479389             5.424770  \n",
              "4        5.361120             4.540295  "
            ],
            "text/html": [
              "\n",
              "  <div id=\"df-16b7249c-22aa-48d4-842c-158fa177057f\" class=\"colab-df-container\">\n",
              "    <div>\n",
              "<style scoped>\n",
              "    .dataframe tbody tr th:only-of-type {\n",
              "        vertical-align: middle;\n",
              "    }\n",
              "\n",
              "    .dataframe tbody tr th {\n",
              "        vertical-align: top;\n",
              "    }\n",
              "\n",
              "    .dataframe thead th {\n",
              "        text-align: right;\n",
              "    }\n",
              "</style>\n",
              "<table border=\"1\" class=\"dataframe\">\n",
              "  <thead>\n",
              "    <tr style=\"text-align: right;\">\n",
              "      <th></th>\n",
              "      <th>Combined_Key</th>\n",
              "      <th>Country_Region</th>\n",
              "      <th>Confirmed</th>\n",
              "      <th>Deaths</th>\n",
              "      <th>Recovered</th>\n",
              "      <th>Active</th>\n",
              "      <th>Incidence_Rate</th>\n",
              "      <th>Case_Fatality_Ratio</th>\n",
              "    </tr>\n",
              "  </thead>\n",
              "  <tbody>\n",
              "    <tr>\n",
              "      <th>0</th>\n",
              "      <td>Afghanistan</td>\n",
              "      <td>Afghanistan</td>\n",
              "      <td>37345</td>\n",
              "      <td>1354</td>\n",
              "      <td>26694</td>\n",
              "      <td>9297.0</td>\n",
              "      <td>95.932678</td>\n",
              "      <td>3.625653</td>\n",
              "    </tr>\n",
              "    <tr>\n",
              "      <th>1</th>\n",
              "      <td>Albania</td>\n",
              "      <td>Albania</td>\n",
              "      <td>6817</td>\n",
              "      <td>208</td>\n",
              "      <td>3552</td>\n",
              "      <td>3057.0</td>\n",
              "      <td>236.882341</td>\n",
              "      <td>3.051196</td>\n",
              "    </tr>\n",
              "    <tr>\n",
              "      <th>2</th>\n",
              "      <td>Algeria</td>\n",
              "      <td>Algeria</td>\n",
              "      <td>36699</td>\n",
              "      <td>1333</td>\n",
              "      <td>25627</td>\n",
              "      <td>9739.0</td>\n",
              "      <td>83.690142</td>\n",
              "      <td>3.632252</td>\n",
              "    </tr>\n",
              "    <tr>\n",
              "      <th>3</th>\n",
              "      <td>Andorra</td>\n",
              "      <td>Andorra</td>\n",
              "      <td>977</td>\n",
              "      <td>53</td>\n",
              "      <td>855</td>\n",
              "      <td>69.0</td>\n",
              "      <td>1264.479389</td>\n",
              "      <td>5.424770</td>\n",
              "    </tr>\n",
              "    <tr>\n",
              "      <th>4</th>\n",
              "      <td>Angola</td>\n",
              "      <td>Angola</td>\n",
              "      <td>1762</td>\n",
              "      <td>80</td>\n",
              "      <td>577</td>\n",
              "      <td>1105.0</td>\n",
              "      <td>5.361120</td>\n",
              "      <td>4.540295</td>\n",
              "    </tr>\n",
              "  </tbody>\n",
              "</table>\n",
              "</div>\n",
              "    <div class=\"colab-df-buttons\">\n",
              "\n",
              "  <div class=\"colab-df-container\">\n",
              "    <button class=\"colab-df-convert\" onclick=\"convertToInteractive('df-16b7249c-22aa-48d4-842c-158fa177057f')\"\n",
              "            title=\"Convert this dataframe to an interactive table.\"\n",
              "            style=\"display:none;\">\n",
              "\n",
              "  <svg xmlns=\"http://www.w3.org/2000/svg\" height=\"24px\" viewBox=\"0 -960 960 960\">\n",
              "    <path d=\"M120-120v-720h720v720H120Zm60-500h600v-160H180v160Zm220 220h160v-160H400v160Zm0 220h160v-160H400v160ZM180-400h160v-160H180v160Zm440 0h160v-160H620v160ZM180-180h160v-160H180v160Zm440 0h160v-160H620v160Z\"/>\n",
              "  </svg>\n",
              "    </button>\n",
              "\n",
              "  <style>\n",
              "    .colab-df-container {\n",
              "      display:flex;\n",
              "      gap: 12px;\n",
              "    }\n",
              "\n",
              "    .colab-df-convert {\n",
              "      background-color: #E8F0FE;\n",
              "      border: none;\n",
              "      border-radius: 50%;\n",
              "      cursor: pointer;\n",
              "      display: none;\n",
              "      fill: #1967D2;\n",
              "      height: 32px;\n",
              "      padding: 0 0 0 0;\n",
              "      width: 32px;\n",
              "    }\n",
              "\n",
              "    .colab-df-convert:hover {\n",
              "      background-color: #E2EBFA;\n",
              "      box-shadow: 0px 1px 2px rgba(60, 64, 67, 0.3), 0px 1px 3px 1px rgba(60, 64, 67, 0.15);\n",
              "      fill: #174EA6;\n",
              "    }\n",
              "\n",
              "    .colab-df-buttons div {\n",
              "      margin-bottom: 4px;\n",
              "    }\n",
              "\n",
              "    [theme=dark] .colab-df-convert {\n",
              "      background-color: #3B4455;\n",
              "      fill: #D2E3FC;\n",
              "    }\n",
              "\n",
              "    [theme=dark] .colab-df-convert:hover {\n",
              "      background-color: #434B5C;\n",
              "      box-shadow: 0px 1px 3px 1px rgba(0, 0, 0, 0.15);\n",
              "      filter: drop-shadow(0px 1px 2px rgba(0, 0, 0, 0.3));\n",
              "      fill: #FFFFFF;\n",
              "    }\n",
              "  </style>\n",
              "\n",
              "    <script>\n",
              "      const buttonEl =\n",
              "        document.querySelector('#df-16b7249c-22aa-48d4-842c-158fa177057f button.colab-df-convert');\n",
              "      buttonEl.style.display =\n",
              "        google.colab.kernel.accessAllowed ? 'block' : 'none';\n",
              "\n",
              "      async function convertToInteractive(key) {\n",
              "        const element = document.querySelector('#df-16b7249c-22aa-48d4-842c-158fa177057f');\n",
              "        const dataTable =\n",
              "          await google.colab.kernel.invokeFunction('convertToInteractive',\n",
              "                                                    [key], {});\n",
              "        if (!dataTable) return;\n",
              "\n",
              "        const docLinkHtml = 'Like what you see? Visit the ' +\n",
              "          '<a target=\"_blank\" href=https://colab.research.google.com/notebooks/data_table.ipynb>data table notebook</a>'\n",
              "          + ' to learn more about interactive tables.';\n",
              "        element.innerHTML = '';\n",
              "        dataTable['output_type'] = 'display_data';\n",
              "        await google.colab.output.renderOutput(dataTable, element);\n",
              "        const docLink = document.createElement('div');\n",
              "        docLink.innerHTML = docLinkHtml;\n",
              "        element.appendChild(docLink);\n",
              "      }\n",
              "    </script>\n",
              "  </div>\n",
              "\n",
              "\n",
              "<div id=\"df-b6d6e287-6f96-425b-af1c-b14829fa5b8a\">\n",
              "  <button class=\"colab-df-quickchart\" onclick=\"quickchart('df-b6d6e287-6f96-425b-af1c-b14829fa5b8a')\"\n",
              "            title=\"Suggest charts\"\n",
              "            style=\"display:none;\">\n",
              "\n",
              "<svg xmlns=\"http://www.w3.org/2000/svg\" height=\"24px\"viewBox=\"0 0 24 24\"\n",
              "     width=\"24px\">\n",
              "    <g>\n",
              "        <path d=\"M19 3H5c-1.1 0-2 .9-2 2v14c0 1.1.9 2 2 2h14c1.1 0 2-.9 2-2V5c0-1.1-.9-2-2-2zM9 17H7v-7h2v7zm4 0h-2V7h2v10zm4 0h-2v-4h2v4z\"/>\n",
              "    </g>\n",
              "</svg>\n",
              "  </button>\n",
              "\n",
              "<style>\n",
              "  .colab-df-quickchart {\n",
              "      --bg-color: #E8F0FE;\n",
              "      --fill-color: #1967D2;\n",
              "      --hover-bg-color: #E2EBFA;\n",
              "      --hover-fill-color: #174EA6;\n",
              "      --disabled-fill-color: #AAA;\n",
              "      --disabled-bg-color: #DDD;\n",
              "  }\n",
              "\n",
              "  [theme=dark] .colab-df-quickchart {\n",
              "      --bg-color: #3B4455;\n",
              "      --fill-color: #D2E3FC;\n",
              "      --hover-bg-color: #434B5C;\n",
              "      --hover-fill-color: #FFFFFF;\n",
              "      --disabled-bg-color: #3B4455;\n",
              "      --disabled-fill-color: #666;\n",
              "  }\n",
              "\n",
              "  .colab-df-quickchart {\n",
              "    background-color: var(--bg-color);\n",
              "    border: none;\n",
              "    border-radius: 50%;\n",
              "    cursor: pointer;\n",
              "    display: none;\n",
              "    fill: var(--fill-color);\n",
              "    height: 32px;\n",
              "    padding: 0;\n",
              "    width: 32px;\n",
              "  }\n",
              "\n",
              "  .colab-df-quickchart:hover {\n",
              "    background-color: var(--hover-bg-color);\n",
              "    box-shadow: 0 1px 2px rgba(60, 64, 67, 0.3), 0 1px 3px 1px rgba(60, 64, 67, 0.15);\n",
              "    fill: var(--button-hover-fill-color);\n",
              "  }\n",
              "\n",
              "  .colab-df-quickchart-complete:disabled,\n",
              "  .colab-df-quickchart-complete:disabled:hover {\n",
              "    background-color: var(--disabled-bg-color);\n",
              "    fill: var(--disabled-fill-color);\n",
              "    box-shadow: none;\n",
              "  }\n",
              "\n",
              "  .colab-df-spinner {\n",
              "    border: 2px solid var(--fill-color);\n",
              "    border-color: transparent;\n",
              "    border-bottom-color: var(--fill-color);\n",
              "    animation:\n",
              "      spin 1s steps(1) infinite;\n",
              "  }\n",
              "\n",
              "  @keyframes spin {\n",
              "    0% {\n",
              "      border-color: transparent;\n",
              "      border-bottom-color: var(--fill-color);\n",
              "      border-left-color: var(--fill-color);\n",
              "    }\n",
              "    20% {\n",
              "      border-color: transparent;\n",
              "      border-left-color: var(--fill-color);\n",
              "      border-top-color: var(--fill-color);\n",
              "    }\n",
              "    30% {\n",
              "      border-color: transparent;\n",
              "      border-left-color: var(--fill-color);\n",
              "      border-top-color: var(--fill-color);\n",
              "      border-right-color: var(--fill-color);\n",
              "    }\n",
              "    40% {\n",
              "      border-color: transparent;\n",
              "      border-right-color: var(--fill-color);\n",
              "      border-top-color: var(--fill-color);\n",
              "    }\n",
              "    60% {\n",
              "      border-color: transparent;\n",
              "      border-right-color: var(--fill-color);\n",
              "    }\n",
              "    80% {\n",
              "      border-color: transparent;\n",
              "      border-right-color: var(--fill-color);\n",
              "      border-bottom-color: var(--fill-color);\n",
              "    }\n",
              "    90% {\n",
              "      border-color: transparent;\n",
              "      border-bottom-color: var(--fill-color);\n",
              "    }\n",
              "  }\n",
              "</style>\n",
              "\n",
              "  <script>\n",
              "    async function quickchart(key) {\n",
              "      const quickchartButtonEl =\n",
              "        document.querySelector('#' + key + ' button');\n",
              "      quickchartButtonEl.disabled = true;  // To prevent multiple clicks.\n",
              "      quickchartButtonEl.classList.add('colab-df-spinner');\n",
              "      try {\n",
              "        const charts = await google.colab.kernel.invokeFunction(\n",
              "            'suggestCharts', [key], {});\n",
              "      } catch (error) {\n",
              "        console.error('Error during call to suggestCharts:', error);\n",
              "      }\n",
              "      quickchartButtonEl.classList.remove('colab-df-spinner');\n",
              "      quickchartButtonEl.classList.add('colab-df-quickchart-complete');\n",
              "    }\n",
              "    (() => {\n",
              "      let quickchartButtonEl =\n",
              "        document.querySelector('#df-b6d6e287-6f96-425b-af1c-b14829fa5b8a button');\n",
              "      quickchartButtonEl.style.display =\n",
              "        google.colab.kernel.accessAllowed ? 'block' : 'none';\n",
              "    })();\n",
              "  </script>\n",
              "</div>\n",
              "\n",
              "    </div>\n",
              "  </div>\n"
            ],
            "application/vnd.google.colaboratory.intrinsic+json": {
              "type": "dataframe",
              "variable_name": "prod",
              "summary": "{\n  \"name\": \"prod\",\n  \"rows\": 3941,\n  \"fields\": [\n    {\n      \"column\": \"Combined_Key\",\n      \"properties\": {\n        \"dtype\": \"string\",\n        \"num_unique_values\": 3941,\n        \"samples\": [\n          \"Suwannee, Florida, US\",\n          \"Lake, Florida, US\",\n          \"Faulkner, Arkansas, US\"\n        ],\n        \"semantic_type\": \"\",\n        \"description\": \"\"\n      }\n    },\n    {\n      \"column\": \"Country_Region\",\n      \"properties\": {\n        \"dtype\": \"category\",\n        \"num_unique_values\": 188,\n        \"samples\": [\n          \"West Bank and Gaza\",\n          \"Sweden\",\n          \"Benin\"\n        ],\n        \"semantic_type\": \"\",\n        \"description\": \"\"\n      }\n    },\n    {\n      \"column\": \"Confirmed\",\n      \"properties\": {\n        \"dtype\": \"number\",\n        \"std\": 26815,\n        \"min\": 0,\n        \"max\": 655181,\n        \"num_unique_values\": 1849,\n        \"samples\": [\n          10281,\n          811,\n          850\n        ],\n        \"semantic_type\": \"\",\n        \"description\": \"\"\n      }\n    },\n    {\n      \"column\": \"Deaths\",\n      \"properties\": {\n        \"dtype\": \"number\",\n        \"std\": 1303,\n        \"min\": 0,\n        \"max\": 42072,\n        \"num_unique_values\": 520,\n        \"samples\": [\n          48,\n          903,\n          5213\n        ],\n        \"semantic_type\": \"\",\n        \"description\": \"\"\n      }\n    },\n    {\n      \"column\": \"Recovered\",\n      \"properties\": {\n        \"dtype\": \"number\",\n        \"std\": 34236,\n        \"min\": 0,\n        \"max\": 1753760,\n        \"num_unique_values\": 578,\n        \"samples\": [\n          76120,\n          8369,\n          5237\n        ],\n        \"semantic_type\": \"\",\n        \"description\": \"\"\n      }\n    },\n    {\n      \"column\": \"Active\",\n      \"properties\": {\n        \"dtype\": \"number\",\n        \"std\": 30504.02116132722,\n        \"min\": -1753760.0,\n        \"max\": 240525.0,\n        \"num_unique_values\": 1681,\n        \"samples\": [\n          16113.0,\n          58000.0,\n          1997.0\n        ],\n        \"semantic_type\": \"\",\n        \"description\": \"\"\n      }\n    },\n    {\n      \"column\": \"Incidence_Rate\",\n      \"properties\": {\n        \"dtype\": \"number\",\n        \"std\": 1071.861908788277,\n        \"min\": -99.0,\n        \"max\": 14028.71322226161,\n        \"num_unique_values\": 3842,\n        \"samples\": [\n          2860.495819275341,\n          1184.9912739965096,\n          3687.526850923672\n        ],\n        \"semantic_type\": \"\",\n        \"description\": \"\"\n      }\n    },\n    {\n      \"column\": \"Case_Fatality_Ratio\",\n      \"properties\": {\n        \"dtype\": \"number\",\n        \"std\": 12.153105283280128,\n        \"min\": -99.0,\n        \"max\": 100.0,\n        \"num_unique_values\": 2316,\n        \"samples\": [\n          1.6513178786916485,\n          7.779171894604768,\n          1.7094017094017089\n        ],\n        \"semantic_type\": \"\",\n        \"description\": \"\"\n      }\n    }\n  ]\n}"
            }
          },
          "metadata": {},
          "execution_count": 2
        }
      ],
      "source": [
        "import pandas as pd\n",
        "import numpy as np\n",
        "\n",
        "\n",
        "DATA_FILE = '/content/covid.csv'\n",
        "\n",
        "\n",
        "\n",
        "# loading the data into a panda datarame\n",
        "prod = pd.read_csv(DATA_FILE)\n",
        "prod.head()"
      ]
    },
    {
      "cell_type": "markdown",
      "metadata": {
        "id": "rwBB3f0JMrOh"
      },
      "source": [
        "### Problem 2: Separate ```covid_csv``` into a `header` and `data`.\n",
        "\n",
        "Complete the following tasks:\n",
        "\n",
        "1. Split the covid_csv object into a ```header``` and ```data```.\n",
        "    1. display the ```header```\n",
        "    2. display the first 3 rows of ```data```.\n",
        "2. What are dimensions of your data? Print the result (neatly formatted and each dimension identified.)\n"
      ]
    },
    {
      "cell_type": "markdown",
      "metadata": {
        "id": "OC0TuWxmMrOh"
      },
      "source": [
        "**Define the header and display the contents.**"
      ]
    },
    {
      "cell_type": "code",
      "execution_count": 4,
      "metadata": {
        "ExecuteTime": {
          "end_time": "2020-08-14T08:48:37.324846Z",
          "start_time": "2020-08-14T08:48:37.313307Z"
        },
        "scrolled": true,
        "id": "AkYkYZ9eMrOh",
        "colab": {
          "base_uri": "https://localhost:8080/"
        },
        "outputId": "557454c3-5894-4a7c-d23f-32e250d8c9df"
      },
      "outputs": [
        {
          "output_type": "stream",
          "name": "stdout",
          "text": [
            "Index(['Combined_Key', 'Country_Region', 'Confirmed', 'Deaths', 'Recovered',\n",
            "       'Active', 'Incidence_Rate', 'Case_Fatality_Ratio'],\n",
            "      dtype='object')\n"
          ]
        }
      ],
      "source": [
        "import pandas as pd\n",
        "\n",
        "\n",
        "\n",
        "# header = prod.columns.tolist()\n",
        "# print(header)\n",
        "\n",
        "print(prod.columns)"
      ]
    },
    {
      "cell_type": "markdown",
      "metadata": {
        "id": "ZiJwwD_mMrOh"
      },
      "source": [
        "**Define the data and display the first 3 rows.**"
      ]
    },
    {
      "cell_type": "code",
      "execution_count": 5,
      "metadata": {
        "ExecuteTime": {
          "end_time": "2020-08-14T08:48:37.844128Z",
          "start_time": "2020-08-14T08:48:37.837074Z"
        },
        "scrolled": false,
        "id": "ofbfcBVOMrOh",
        "colab": {
          "base_uri": "https://localhost:8080/",
          "height": 143
        },
        "outputId": "995b3961-834f-4f5f-b7b8-70606d1ac12f"
      },
      "outputs": [
        {
          "output_type": "execute_result",
          "data": {
            "text/plain": [
              "  Combined_Key Country_Region  Confirmed  Deaths  Recovered  Active  \\\n",
              "0  Afghanistan    Afghanistan      37345    1354      26694  9297.0   \n",
              "1      Albania        Albania       6817     208       3552  3057.0   \n",
              "2      Algeria        Algeria      36699    1333      25627  9739.0   \n",
              "\n",
              "   Incidence_Rate  Case_Fatality_Ratio  \n",
              "0       95.932678             3.625653  \n",
              "1      236.882341             3.051196  \n",
              "2       83.690142             3.632252  "
            ],
            "text/html": [
              "\n",
              "  <div id=\"df-79826766-2265-4b37-bf61-4177812dc7ae\" class=\"colab-df-container\">\n",
              "    <div>\n",
              "<style scoped>\n",
              "    .dataframe tbody tr th:only-of-type {\n",
              "        vertical-align: middle;\n",
              "    }\n",
              "\n",
              "    .dataframe tbody tr th {\n",
              "        vertical-align: top;\n",
              "    }\n",
              "\n",
              "    .dataframe thead th {\n",
              "        text-align: right;\n",
              "    }\n",
              "</style>\n",
              "<table border=\"1\" class=\"dataframe\">\n",
              "  <thead>\n",
              "    <tr style=\"text-align: right;\">\n",
              "      <th></th>\n",
              "      <th>Combined_Key</th>\n",
              "      <th>Country_Region</th>\n",
              "      <th>Confirmed</th>\n",
              "      <th>Deaths</th>\n",
              "      <th>Recovered</th>\n",
              "      <th>Active</th>\n",
              "      <th>Incidence_Rate</th>\n",
              "      <th>Case_Fatality_Ratio</th>\n",
              "    </tr>\n",
              "  </thead>\n",
              "  <tbody>\n",
              "    <tr>\n",
              "      <th>0</th>\n",
              "      <td>Afghanistan</td>\n",
              "      <td>Afghanistan</td>\n",
              "      <td>37345</td>\n",
              "      <td>1354</td>\n",
              "      <td>26694</td>\n",
              "      <td>9297.0</td>\n",
              "      <td>95.932678</td>\n",
              "      <td>3.625653</td>\n",
              "    </tr>\n",
              "    <tr>\n",
              "      <th>1</th>\n",
              "      <td>Albania</td>\n",
              "      <td>Albania</td>\n",
              "      <td>6817</td>\n",
              "      <td>208</td>\n",
              "      <td>3552</td>\n",
              "      <td>3057.0</td>\n",
              "      <td>236.882341</td>\n",
              "      <td>3.051196</td>\n",
              "    </tr>\n",
              "    <tr>\n",
              "      <th>2</th>\n",
              "      <td>Algeria</td>\n",
              "      <td>Algeria</td>\n",
              "      <td>36699</td>\n",
              "      <td>1333</td>\n",
              "      <td>25627</td>\n",
              "      <td>9739.0</td>\n",
              "      <td>83.690142</td>\n",
              "      <td>3.632252</td>\n",
              "    </tr>\n",
              "  </tbody>\n",
              "</table>\n",
              "</div>\n",
              "    <div class=\"colab-df-buttons\">\n",
              "\n",
              "  <div class=\"colab-df-container\">\n",
              "    <button class=\"colab-df-convert\" onclick=\"convertToInteractive('df-79826766-2265-4b37-bf61-4177812dc7ae')\"\n",
              "            title=\"Convert this dataframe to an interactive table.\"\n",
              "            style=\"display:none;\">\n",
              "\n",
              "  <svg xmlns=\"http://www.w3.org/2000/svg\" height=\"24px\" viewBox=\"0 -960 960 960\">\n",
              "    <path d=\"M120-120v-720h720v720H120Zm60-500h600v-160H180v160Zm220 220h160v-160H400v160Zm0 220h160v-160H400v160ZM180-400h160v-160H180v160Zm440 0h160v-160H620v160ZM180-180h160v-160H180v160Zm440 0h160v-160H620v160Z\"/>\n",
              "  </svg>\n",
              "    </button>\n",
              "\n",
              "  <style>\n",
              "    .colab-df-container {\n",
              "      display:flex;\n",
              "      gap: 12px;\n",
              "    }\n",
              "\n",
              "    .colab-df-convert {\n",
              "      background-color: #E8F0FE;\n",
              "      border: none;\n",
              "      border-radius: 50%;\n",
              "      cursor: pointer;\n",
              "      display: none;\n",
              "      fill: #1967D2;\n",
              "      height: 32px;\n",
              "      padding: 0 0 0 0;\n",
              "      width: 32px;\n",
              "    }\n",
              "\n",
              "    .colab-df-convert:hover {\n",
              "      background-color: #E2EBFA;\n",
              "      box-shadow: 0px 1px 2px rgba(60, 64, 67, 0.3), 0px 1px 3px 1px rgba(60, 64, 67, 0.15);\n",
              "      fill: #174EA6;\n",
              "    }\n",
              "\n",
              "    .colab-df-buttons div {\n",
              "      margin-bottom: 4px;\n",
              "    }\n",
              "\n",
              "    [theme=dark] .colab-df-convert {\n",
              "      background-color: #3B4455;\n",
              "      fill: #D2E3FC;\n",
              "    }\n",
              "\n",
              "    [theme=dark] .colab-df-convert:hover {\n",
              "      background-color: #434B5C;\n",
              "      box-shadow: 0px 1px 3px 1px rgba(0, 0, 0, 0.15);\n",
              "      filter: drop-shadow(0px 1px 2px rgba(0, 0, 0, 0.3));\n",
              "      fill: #FFFFFF;\n",
              "    }\n",
              "  </style>\n",
              "\n",
              "    <script>\n",
              "      const buttonEl =\n",
              "        document.querySelector('#df-79826766-2265-4b37-bf61-4177812dc7ae button.colab-df-convert');\n",
              "      buttonEl.style.display =\n",
              "        google.colab.kernel.accessAllowed ? 'block' : 'none';\n",
              "\n",
              "      async function convertToInteractive(key) {\n",
              "        const element = document.querySelector('#df-79826766-2265-4b37-bf61-4177812dc7ae');\n",
              "        const dataTable =\n",
              "          await google.colab.kernel.invokeFunction('convertToInteractive',\n",
              "                                                    [key], {});\n",
              "        if (!dataTable) return;\n",
              "\n",
              "        const docLinkHtml = 'Like what you see? Visit the ' +\n",
              "          '<a target=\"_blank\" href=https://colab.research.google.com/notebooks/data_table.ipynb>data table notebook</a>'\n",
              "          + ' to learn more about interactive tables.';\n",
              "        element.innerHTML = '';\n",
              "        dataTable['output_type'] = 'display_data';\n",
              "        await google.colab.output.renderOutput(dataTable, element);\n",
              "        const docLink = document.createElement('div');\n",
              "        docLink.innerHTML = docLinkHtml;\n",
              "        element.appendChild(docLink);\n",
              "      }\n",
              "    </script>\n",
              "  </div>\n",
              "\n",
              "\n",
              "<div id=\"df-0b97ad87-9e3c-412f-8a4d-edba0f4da50f\">\n",
              "  <button class=\"colab-df-quickchart\" onclick=\"quickchart('df-0b97ad87-9e3c-412f-8a4d-edba0f4da50f')\"\n",
              "            title=\"Suggest charts\"\n",
              "            style=\"display:none;\">\n",
              "\n",
              "<svg xmlns=\"http://www.w3.org/2000/svg\" height=\"24px\"viewBox=\"0 0 24 24\"\n",
              "     width=\"24px\">\n",
              "    <g>\n",
              "        <path d=\"M19 3H5c-1.1 0-2 .9-2 2v14c0 1.1.9 2 2 2h14c1.1 0 2-.9 2-2V5c0-1.1-.9-2-2-2zM9 17H7v-7h2v7zm4 0h-2V7h2v10zm4 0h-2v-4h2v4z\"/>\n",
              "    </g>\n",
              "</svg>\n",
              "  </button>\n",
              "\n",
              "<style>\n",
              "  .colab-df-quickchart {\n",
              "      --bg-color: #E8F0FE;\n",
              "      --fill-color: #1967D2;\n",
              "      --hover-bg-color: #E2EBFA;\n",
              "      --hover-fill-color: #174EA6;\n",
              "      --disabled-fill-color: #AAA;\n",
              "      --disabled-bg-color: #DDD;\n",
              "  }\n",
              "\n",
              "  [theme=dark] .colab-df-quickchart {\n",
              "      --bg-color: #3B4455;\n",
              "      --fill-color: #D2E3FC;\n",
              "      --hover-bg-color: #434B5C;\n",
              "      --hover-fill-color: #FFFFFF;\n",
              "      --disabled-bg-color: #3B4455;\n",
              "      --disabled-fill-color: #666;\n",
              "  }\n",
              "\n",
              "  .colab-df-quickchart {\n",
              "    background-color: var(--bg-color);\n",
              "    border: none;\n",
              "    border-radius: 50%;\n",
              "    cursor: pointer;\n",
              "    display: none;\n",
              "    fill: var(--fill-color);\n",
              "    height: 32px;\n",
              "    padding: 0;\n",
              "    width: 32px;\n",
              "  }\n",
              "\n",
              "  .colab-df-quickchart:hover {\n",
              "    background-color: var(--hover-bg-color);\n",
              "    box-shadow: 0 1px 2px rgba(60, 64, 67, 0.3), 0 1px 3px 1px rgba(60, 64, 67, 0.15);\n",
              "    fill: var(--button-hover-fill-color);\n",
              "  }\n",
              "\n",
              "  .colab-df-quickchart-complete:disabled,\n",
              "  .colab-df-quickchart-complete:disabled:hover {\n",
              "    background-color: var(--disabled-bg-color);\n",
              "    fill: var(--disabled-fill-color);\n",
              "    box-shadow: none;\n",
              "  }\n",
              "\n",
              "  .colab-df-spinner {\n",
              "    border: 2px solid var(--fill-color);\n",
              "    border-color: transparent;\n",
              "    border-bottom-color: var(--fill-color);\n",
              "    animation:\n",
              "      spin 1s steps(1) infinite;\n",
              "  }\n",
              "\n",
              "  @keyframes spin {\n",
              "    0% {\n",
              "      border-color: transparent;\n",
              "      border-bottom-color: var(--fill-color);\n",
              "      border-left-color: var(--fill-color);\n",
              "    }\n",
              "    20% {\n",
              "      border-color: transparent;\n",
              "      border-left-color: var(--fill-color);\n",
              "      border-top-color: var(--fill-color);\n",
              "    }\n",
              "    30% {\n",
              "      border-color: transparent;\n",
              "      border-left-color: var(--fill-color);\n",
              "      border-top-color: var(--fill-color);\n",
              "      border-right-color: var(--fill-color);\n",
              "    }\n",
              "    40% {\n",
              "      border-color: transparent;\n",
              "      border-right-color: var(--fill-color);\n",
              "      border-top-color: var(--fill-color);\n",
              "    }\n",
              "    60% {\n",
              "      border-color: transparent;\n",
              "      border-right-color: var(--fill-color);\n",
              "    }\n",
              "    80% {\n",
              "      border-color: transparent;\n",
              "      border-right-color: var(--fill-color);\n",
              "      border-bottom-color: var(--fill-color);\n",
              "    }\n",
              "    90% {\n",
              "      border-color: transparent;\n",
              "      border-bottom-color: var(--fill-color);\n",
              "    }\n",
              "  }\n",
              "</style>\n",
              "\n",
              "  <script>\n",
              "    async function quickchart(key) {\n",
              "      const quickchartButtonEl =\n",
              "        document.querySelector('#' + key + ' button');\n",
              "      quickchartButtonEl.disabled = true;  // To prevent multiple clicks.\n",
              "      quickchartButtonEl.classList.add('colab-df-spinner');\n",
              "      try {\n",
              "        const charts = await google.colab.kernel.invokeFunction(\n",
              "            'suggestCharts', [key], {});\n",
              "      } catch (error) {\n",
              "        console.error('Error during call to suggestCharts:', error);\n",
              "      }\n",
              "      quickchartButtonEl.classList.remove('colab-df-spinner');\n",
              "      quickchartButtonEl.classList.add('colab-df-quickchart-complete');\n",
              "    }\n",
              "    (() => {\n",
              "      let quickchartButtonEl =\n",
              "        document.querySelector('#df-0b97ad87-9e3c-412f-8a4d-edba0f4da50f button');\n",
              "      quickchartButtonEl.style.display =\n",
              "        google.colab.kernel.accessAllowed ? 'block' : 'none';\n",
              "    })();\n",
              "  </script>\n",
              "</div>\n",
              "\n",
              "    </div>\n",
              "  </div>\n"
            ],
            "application/vnd.google.colaboratory.intrinsic+json": {
              "type": "dataframe",
              "variable_name": "prod",
              "summary": "{\n  \"name\": \"prod\",\n  \"rows\": 3941,\n  \"fields\": [\n    {\n      \"column\": \"Combined_Key\",\n      \"properties\": {\n        \"dtype\": \"string\",\n        \"num_unique_values\": 3941,\n        \"samples\": [\n          \"Suwannee, Florida, US\",\n          \"Lake, Florida, US\",\n          \"Faulkner, Arkansas, US\"\n        ],\n        \"semantic_type\": \"\",\n        \"description\": \"\"\n      }\n    },\n    {\n      \"column\": \"Country_Region\",\n      \"properties\": {\n        \"dtype\": \"category\",\n        \"num_unique_values\": 188,\n        \"samples\": [\n          \"West Bank and Gaza\",\n          \"Sweden\",\n          \"Benin\"\n        ],\n        \"semantic_type\": \"\",\n        \"description\": \"\"\n      }\n    },\n    {\n      \"column\": \"Confirmed\",\n      \"properties\": {\n        \"dtype\": \"number\",\n        \"std\": 26815,\n        \"min\": 0,\n        \"max\": 655181,\n        \"num_unique_values\": 1849,\n        \"samples\": [\n          10281,\n          811,\n          850\n        ],\n        \"semantic_type\": \"\",\n        \"description\": \"\"\n      }\n    },\n    {\n      \"column\": \"Deaths\",\n      \"properties\": {\n        \"dtype\": \"number\",\n        \"std\": 1303,\n        \"min\": 0,\n        \"max\": 42072,\n        \"num_unique_values\": 520,\n        \"samples\": [\n          48,\n          903,\n          5213\n        ],\n        \"semantic_type\": \"\",\n        \"description\": \"\"\n      }\n    },\n    {\n      \"column\": \"Recovered\",\n      \"properties\": {\n        \"dtype\": \"number\",\n        \"std\": 34236,\n        \"min\": 0,\n        \"max\": 1753760,\n        \"num_unique_values\": 578,\n        \"samples\": [\n          76120,\n          8369,\n          5237\n        ],\n        \"semantic_type\": \"\",\n        \"description\": \"\"\n      }\n    },\n    {\n      \"column\": \"Active\",\n      \"properties\": {\n        \"dtype\": \"number\",\n        \"std\": 30504.02116132722,\n        \"min\": -1753760.0,\n        \"max\": 240525.0,\n        \"num_unique_values\": 1681,\n        \"samples\": [\n          16113.0,\n          58000.0,\n          1997.0\n        ],\n        \"semantic_type\": \"\",\n        \"description\": \"\"\n      }\n    },\n    {\n      \"column\": \"Incidence_Rate\",\n      \"properties\": {\n        \"dtype\": \"number\",\n        \"std\": 1071.861908788277,\n        \"min\": -99.0,\n        \"max\": 14028.71322226161,\n        \"num_unique_values\": 3842,\n        \"samples\": [\n          2860.495819275341,\n          1184.9912739965096,\n          3687.526850923672\n        ],\n        \"semantic_type\": \"\",\n        \"description\": \"\"\n      }\n    },\n    {\n      \"column\": \"Case_Fatality_Ratio\",\n      \"properties\": {\n        \"dtype\": \"number\",\n        \"std\": 12.153105283280128,\n        \"min\": -99.0,\n        \"max\": 100.0,\n        \"num_unique_values\": 2316,\n        \"samples\": [\n          1.6513178786916485,\n          7.779171894604768,\n          1.7094017094017089\n        ],\n        \"semantic_type\": \"\",\n        \"description\": \"\"\n      }\n    }\n  ]\n}"
            }
          },
          "metadata": {},
          "execution_count": 5
        }
      ],
      "source": [
        "# Assign the data only\n",
        "# display the first 3 rows\n",
        "\n",
        "prod.head(3)\n"
      ]
    },
    {
      "cell_type": "markdown",
      "metadata": {
        "id": "lBMGHGqwMrOh"
      },
      "source": [
        "**Bonus: Use ```namedtuple``` to assign the data.**"
      ]
    },
    {
      "cell_type": "code",
      "execution_count": 6,
      "metadata": {
        "ExecuteTime": {
          "end_time": "2020-08-14T08:48:38.723883Z",
          "start_time": "2020-08-14T08:48:38.714643Z"
        },
        "scrolled": false,
        "id": "zXXx-B0-MrOh",
        "colab": {
          "base_uri": "https://localhost:8080/"
        },
        "outputId": "7793fdbb-0ef0-4255-a24c-7f2dc6b0d9c8"
      },
      "outputs": [
        {
          "output_type": "stream",
          "name": "stdout",
          "text": [
            "Country/Region: USA, Confirmed: 100\n"
          ]
        }
      ],
      "source": [
        "import pandas as pd\n",
        "from collections import namedtuple\n",
        "\n",
        "\n",
        "prod = pd.DataFrame({\n",
        "    'Country_Region': ['USA', 'Canada'],\n",
        "    'Confirmed': [100, 200],\n",
        "    'Deaths': [5, 10],\n",
        "    'Recovered': [95, 190],\n",
        "    'Active': [0, 0],\n",
        "    'Incidence_Rate': [300.5, 450.2],\n",
        "    'Case_Fatality_Ratio': [5.0, 5.0]\n",
        "})\n",
        "\n",
        "# Alternative : use namedtuple\n",
        "# define the namedtuple called CovidData and assign column names\n",
        "CovidData = namedtuple('CovidData', [col.replace(' ', '_') for col in prod.columns])\n",
        "\n",
        "\n",
        "\n",
        "# create the tuples from the original data\n",
        "# use a list comprehension for compactness - could also be a for-loop.\n",
        "data_named = [CovidData(*row) for row in prod.itertuples(index=False, name=None)] #itertuples() method will iterate through each row of the Dataframe\n",
        "\n",
        "\n",
        "first_record = data_named[0]\n",
        "print(f\"Country/Region: {first_record.Country_Region}, Confirmed: {first_record.Confirmed}\")\n"
      ]
    },
    {
      "cell_type": "code",
      "execution_count": 7,
      "metadata": {
        "ExecuteTime": {
          "end_time": "2020-08-14T08:48:38.992031Z",
          "start_time": "2020-08-14T08:48:38.986936Z"
        },
        "id": "rHsxixXzMrOh",
        "colab": {
          "base_uri": "https://localhost:8080/"
        },
        "outputId": "fb6b161e-7ea6-4870-e074-1257199e62e4"
      },
      "outputs": [
        {
          "output_type": "stream",
          "name": "stdout",
          "text": [
            "('Country_Region', 'Confirmed', 'Deaths', 'Recovered', 'Active', 'Incidence_Rate', 'Case_Fatality_Ratio')\n"
          ]
        }
      ],
      "source": [
        "# Check the header of the namedtuple\n",
        "print(CovidData._fields)"
      ]
    },
    {
      "cell_type": "markdown",
      "metadata": {
        "ExecuteTime": {
          "end_time": "2020-08-13T02:39:10.637414Z",
          "start_time": "2020-08-13T02:39:10.631934Z"
        },
        "id": "z2aAZZvyMrOh"
      },
      "source": [
        "**How many rows and how many columns?**"
      ]
    },
    {
      "cell_type": "code",
      "execution_count": 8,
      "metadata": {
        "ExecuteTime": {
          "end_time": "2020-08-14T08:48:39.805222Z",
          "start_time": "2020-08-14T08:48:39.801020Z"
        },
        "id": "kLVH4ducMrOh",
        "colab": {
          "base_uri": "https://localhost:8080/"
        },
        "outputId": "f1026b78-99fb-45f4-af6e-d0546112ec14"
      },
      "outputs": [
        {
          "output_type": "stream",
          "name": "stdout",
          "text": [
            "Number of rows: 2\n",
            "Number of columns: 7\n"
          ]
        }
      ],
      "source": [
        "# print the rows and columns in data - label the output\n",
        "\n",
        "\n",
        "num_rows = len(data_named) # number of rows\n",
        "num_columns = len(CovidData._fields) # number of columns\n",
        "\n",
        "print(f\"Number of rows: {num_rows}\")\n",
        "print(f\"Number of columns: {num_columns}\")"
      ]
    },
    {
      "cell_type": "code",
      "execution_count": 9,
      "metadata": {
        "ExecuteTime": {
          "end_time": "2020-08-14T08:48:40.065813Z",
          "start_time": "2020-08-14T08:48:40.061274Z"
        },
        "id": "M9p3dVRbMrOh",
        "colab": {
          "base_uri": "https://localhost:8080/"
        },
        "outputId": "0b30c865-bd71-4cb2-9e9d-36366af93514"
      },
      "outputs": [
        {
          "output_type": "stream",
          "name": "stdout",
          "text": [
            "Number of rows in data_named: 2\n",
            "Number of columns in data_named: 7\n"
          ]
        }
      ],
      "source": [
        "# print the rows and columns in the namedtuple data_named - label the output\n",
        "\n",
        "\n",
        "num_rows = len(data_named)\n",
        "num_columns = len(CovidData._fields)\n",
        "\n",
        "# Printing the results with labels\n",
        "print(\"Number of rows in data_named:\", num_rows)\n",
        "print(\"Number of columns in data_named:\", num_columns)\n"
      ]
    },
    {
      "cell_type": "markdown",
      "metadata": {
        "id": "vOHYzjUvMrOh"
      },
      "source": [
        "### Problem 3: Check the data type of each column and convert all numeric values to floats.\n",
        "\n",
        "Complete the following tasks:\n",
        "\n",
        "1. Check data types (you only have to do this for one row).\n",
        "2. Convert all numeric values to floats.\n",
        "\n",
        "\n",
        "Note: only print the data type once per column (i.e. only do this for 1 row of data.\n",
        "\n",
        "**Format your output neatly and annotate properly.** Unannotated lists of data types will not receive credit. This means you should match each column name to a data type and display the combination."
      ]
    },
    {
      "cell_type": "code",
      "execution_count": 17,
      "metadata": {
        "ExecuteTime": {
          "end_time": "2020-08-14T08:48:40.615195Z",
          "start_time": "2020-08-14T08:48:40.609072Z"
        },
        "id": "_9pyhiC7MrOh",
        "colab": {
          "base_uri": "https://localhost:8080/"
        },
        "outputId": "27eff901-778e-420a-9407-b1886a49029f"
      },
      "outputs": [
        {
          "output_type": "stream",
          "name": "stdout",
          "text": [
            "Data types for each column:\n",
            "Country_Region: str\n",
            "Confirmed: int\n",
            "Deaths: int\n",
            "Recovered: int\n",
            "Active: int\n",
            "Incidence_Rate: float\n",
            "Case_Fatality_Ratio: float\n",
            "\n",
            "Converted types in the first row after conversion:\n",
            "Country_Region: str\n",
            "Confirmed: float\n",
            "Deaths: float\n",
            "Recovered: float\n",
            "Active: float\n",
            "Incidence_Rate: float\n",
            "Case_Fatality_Ratio: float\n"
          ]
        }
      ],
      "source": [
        "# check data types for each column\n",
        "\n",
        "\n",
        "from collections import namedtuple\n",
        "import decimal\n",
        "\n",
        "\n",
        "if data_named:  # Checking to see if the list is not empty\n",
        "    # Step 1: Check Data Types for Each Column\n",
        "    first_row = data_named[0]\n",
        "    print(\"Data types for each column:\")\n",
        "    for field in CovidData._fields:\n",
        "        value = getattr(first_row, field) # this method will check the value for the first row\n",
        "        print(f\"{field}: {type(value).__name__}\")\n",
        "\n",
        "    # Step 2: Convert Numeric Values to Floats\n",
        "    CovidDataFloat = namedtuple('CovidDataFloat', CovidData._fields)\n",
        "    def convert_to_float(val):\n",
        "        if isinstance(val, (int, float, decimal.Decimal)):  # Check if the value is numeric\n",
        "            return float(val)\n",
        "        return val\n",
        "\n",
        "    data_named_float = [\n",
        "        CovidDataFloat(*(convert_to_float(val) for val in row))\n",
        "        for row in data_named\n",
        "    ]\n",
        "\n",
        "    #print a sample to check conversion\n",
        "    print(\"\\nConverted types in the first row after conversion:\")\n",
        "    for field in CovidDataFloat._fields:\n",
        "        value = getattr(data_named_float[0], field)\n",
        "        print(f\"{field}: {type(value).__name__}\")\n",
        "else:\n",
        "    print(\"The data list 'data_named' is empty.\")\n"
      ]
    },
    {
      "cell_type": "code",
      "execution_count": 18,
      "metadata": {
        "ExecuteTime": {
          "end_time": "2020-08-14T08:48:40.916301Z",
          "start_time": "2020-08-14T08:48:40.910649Z"
        },
        "scrolled": true,
        "id": "EJuM4Ij4MrOh"
      },
      "outputs": [],
      "source": [
        "# check data types for each column\n",
        "\n",
        "#  This one seems like the first one, I'm assuming you want the floats  here\n"
      ]
    },
    {
      "cell_type": "markdown",
      "metadata": {
        "id": "hVf6kpVZMrOh"
      },
      "source": [
        "#### Convert numeric data to floats.\n",
        "1. use a loop to convert only the numeric data (i.e. numbers represented as strings) to float values. You'll have to come up with a way to skip the non-numeric data.\n",
        "\n",
        "2. If you used namedtuples this is a little trickier since namedtuples are immutable (can't be changed).\n",
        "\n",
        "Hint: you need to use a placeholder data type that you can convert the values. After conversion put everything back into a namedtuple."
      ]
    },
    {
      "cell_type": "markdown",
      "metadata": {
        "id": "kFJ-c7qkMrOi"
      },
      "source": [
        "##### Convert the appropriate elements of ```data``` to floats."
      ]
    },
    {
      "cell_type": "code",
      "execution_count": 20,
      "metadata": {
        "ExecuteTime": {
          "end_time": "2020-08-14T08:48:41.787129Z",
          "start_time": "2020-08-14T08:48:41.765082Z"
        },
        "id": "1ad9h8dUMrOi"
      },
      "outputs": [],
      "source": [
        "# convert all numerical data to floats.\n",
        "\n",
        "from collections import namedtuple\n",
        "import decimal\n",
        "\n",
        "def is_numeric(s):\n",
        "    \"\"\"Check if a string can be interpreted as a number.\"\"\"\n",
        "    try:\n",
        "        float(s)\n",
        "        return True\n",
        "    except ValueError:\n",
        "        return False"
      ]
    },
    {
      "cell_type": "markdown",
      "metadata": {
        "id": "QYjDOjnLMrOi"
      },
      "source": [
        "##### an alternative approach to convert the elements of ```data``` to floats."
      ]
    },
    {
      "cell_type": "code",
      "execution_count": 22,
      "metadata": {
        "ExecuteTime": {
          "end_time": "2020-08-14T08:48:42.317076Z",
          "start_time": "2020-08-14T08:48:42.304873Z"
        },
        "id": "3jbdRMw1MrOi",
        "colab": {
          "base_uri": "https://localhost:8080/"
        },
        "outputId": "1e488287-3232-4142-dc46-0ec64845cb2b"
      },
      "outputs": [
        {
          "output_type": "stream",
          "name": "stdout",
          "text": [
            "Converted row sample:\n",
            "Country_Region: str (USA)\n",
            "Confirmed: int (100)\n",
            "Deaths: int (5)\n",
            "Recovered: int (95)\n",
            "Active: int (0)\n",
            "Incidence_Rate: float (300.5)\n",
            "Case_Fatality_Ratio: float (5.0)\n"
          ]
        }
      ],
      "source": [
        "# convert all numerical data to floats.\n",
        "\n",
        "from collections import namedtuple\n",
        "import decimal\n",
        "\n",
        "# Convert data and store in a new list\n",
        "converted_data_named = []\n",
        "for row in data_named:\n",
        "    # Convert numeric strings to floats, leave other data types unchanged\n",
        "    converted_row = tuple(float(field) if isinstance(field, str) and is_numeric(field) else field for field in row)\n",
        "    # Create a new namedtuple instance with the converted data\n",
        "    converted_data_named.append(CovidDataConverted(*converted_row))\n",
        "\n",
        "print(\"Converted row sample:\")\n",
        "for field, value in zip(CovidDataConverted._fields, converted_data_named[0]):\n",
        "    print(f\"{field}: {type(value).__name__} ({value})\")"
      ]
    },
    {
      "cell_type": "markdown",
      "metadata": {
        "id": "K54yXBX2MrOi"
      },
      "source": [
        "##### Convert the appropriate elements of data_named to floats.\n",
        "Note that this is a touch more complicated since namedtuples are immutable and elements cannot be changed.\n",
        "\n",
        "So the approach is to create a dictionary for each row and add each element of the namedtuples to the dictionary, converting the type when necessary. We end up with a list of dictionaries with all the same information, but all numerical values are now floats."
      ]
    },
    {
      "cell_type": "code",
      "execution_count": 25,
      "metadata": {
        "ExecuteTime": {
          "end_time": "2020-08-14T08:48:43.027222Z",
          "start_time": "2020-08-14T08:48:43.000941Z"
        },
        "scrolled": false,
        "id": "r-iNXziAMrOi"
      },
      "outputs": [],
      "source": [
        "# alternative approach\n",
        "\n",
        "from collections import namedtuple\n",
        "import decimal\n",
        "\n",
        "converted_data_dicts = []\n",
        "\n",
        "for record in data_named:\n",
        "    # Convert the namedtuple to a dictionary\n",
        "    record_dict = record._asdict()\n",
        "\n",
        "    # Modify the dictionary by converting numeric values to floats\n",
        "    for key, value in record_dict.items():\n",
        "        if isinstance(value, (int, float, decimal.Decimal)):  # Check if the value is a numeric type\n",
        "            record_dict[key] = float(value)  # Convert to float\n",
        "\n",
        "    # Append the modified dictionary to the new list\n",
        "    converted_data_dicts.append(record_dict)"
      ]
    },
    {
      "cell_type": "code",
      "execution_count": null,
      "metadata": {
        "ExecuteTime": {
          "end_time": "2020-08-14T08:48:43.262775Z",
          "start_time": "2020-08-14T08:48:43.253739Z"
        },
        "id": "jYLUloATMrOi"
      },
      "outputs": [],
      "source": [
        "# namedtuple approach\n",
        "\n"
      ]
    },
    {
      "cell_type": "code",
      "execution_count": 26,
      "metadata": {
        "ExecuteTime": {
          "end_time": "2020-08-14T08:48:43.511267Z",
          "start_time": "2020-08-14T08:48:43.504351Z"
        },
        "id": "MPCpvPvnMrOi",
        "colab": {
          "base_uri": "https://localhost:8080/"
        },
        "outputId": "ecf8da94-2c1f-4081-9a53-fbd4c82293dc"
      },
      "outputs": [
        {
          "output_type": "stream",
          "name": "stdout",
          "text": [
            "Sample converted dictionary: {'Country_Region': 'USA', 'Confirmed': 100.0, 'Deaths': 5.0, 'Recovered': 95.0, 'Active': 0.0, 'Incidence_Rate': 300.5, 'Case_Fatality_Ratio': 5.0}\n"
          ]
        }
      ],
      "source": [
        "# check the result -\n",
        "\n",
        "print(\"Sample converted dictionary:\", converted_data_dicts[0])"
      ]
    },
    {
      "cell_type": "markdown",
      "metadata": {
        "id": "ljh6pLHFMrOi"
      },
      "source": [
        "### Part 4: Calculate the average number of active cases and average number of deaths.\n",
        "\n",
        "1. Compute the average for active cases\n",
        "2. Compute the average number of deaths.\n",
        "3. Compute the average total number of cases.\n",
        "\n",
        "Hint: Review the data dictionary to determine the correct information to use.\n",
        "\n",
        "Hint: Don't over think this. Try to find the simplest approach.\n"
      ]
    },
    {
      "cell_type": "markdown",
      "metadata": {
        "id": "8CrwqG29MrOi"
      },
      "source": [
        "#### Find the average using the standard ```data```"
      ]
    },
    {
      "cell_type": "code",
      "execution_count": 23,
      "metadata": {
        "ExecuteTime": {
          "end_time": "2020-08-14T08:48:44.417847Z",
          "start_time": "2020-08-14T08:48:44.413006Z"
        },
        "id": "63DiBLpQMrOi"
      },
      "outputs": [],
      "source": [
        "# Create a list for active case counts and deaths\n",
        "\n",
        "active_cases = []\n",
        "deaths = []\n",
        "confirmed_cases = []\n",
        "\n",
        "\n",
        "for record in data_named:\n",
        "    active_cases.append(record.Active)\n",
        "    deaths.append(record.Deaths)\n",
        "    confirmed_cases.append(record.Confirmed)\n",
        "\n",
        "# Function to calculate the average from a list of numbers\n",
        "def calculate_average(numbers):\n",
        "    if numbers:  # Checking if the list is not empty to avoid division by zero\n",
        "        return sum(numbers) / len(numbers)\n",
        "    return 0  # Return 0 or suitable value if the list is empty\n"
      ]
    },
    {
      "cell_type": "code",
      "execution_count": 24,
      "metadata": {
        "ExecuteTime": {
          "end_time": "2020-08-14T08:48:44.708724Z",
          "start_time": "2020-08-14T08:48:44.703309Z"
        },
        "id": "47-vv1apMrOj",
        "colab": {
          "base_uri": "https://localhost:8080/"
        },
        "outputId": "841f3151-68a4-4c72-bf62-8389b58b4214"
      },
      "outputs": [
        {
          "output_type": "stream",
          "name": "stdout",
          "text": [
            "Average Active Cases: 0.0\n",
            "Average Deaths: 7.5\n",
            "Average Confirmed Cases: 150.0\n"
          ]
        }
      ],
      "source": [
        "# Calculate the average number of cases per country\n",
        "\n",
        "average_active_cases = calculate_average(active_cases)\n",
        "average_deaths = calculate_average(deaths)\n",
        "average_confirmed_cases = calculate_average(confirmed_cases)\n",
        "\n",
        "# Print the results\n",
        "print(f\"Average Active Cases: {average_active_cases}\")\n",
        "print(f\"Average Deaths: {average_deaths}\")\n",
        "print(f\"Average Confirmed Cases: {average_confirmed_cases}\")"
      ]
    },
    {
      "cell_type": "markdown",
      "metadata": {
        "id": "gtIFIPVlMrOj"
      },
      "source": [
        "#### Find the average using the namedtuple ```data_named```"
      ]
    },
    {
      "cell_type": "code",
      "execution_count": 43,
      "metadata": {
        "ExecuteTime": {
          "end_time": "2020-08-14T08:48:45.249351Z",
          "start_time": "2020-08-14T08:48:45.244728Z"
        },
        "id": "SNV7HL66MrOj"
      },
      "outputs": [],
      "source": [
        "# Create a list for active case counts and deaths\n",
        "\n",
        "from collections import defaultdict, namedtuple\n",
        "\n",
        "country_data = defaultdict(lambda: {'active_sum': 0.0, 'death_sum': 0.0, 'count': 0})\n",
        "\n",
        "# Note: Don't forget to convert to floats.\n"
      ]
    },
    {
      "cell_type": "code",
      "execution_count": null,
      "metadata": {
        "ExecuteTime": {
          "end_time": "2020-08-14T08:48:45.499380Z",
          "start_time": "2020-08-14T08:48:45.493339Z"
        },
        "id": "brWyA5PrMrOj"
      },
      "outputs": [],
      "source": [
        "# Calculate the average number of cases per country\n"
      ]
    },
    {
      "cell_type": "markdown",
      "metadata": {
        "id": "AqKNfZhrMrOj"
      },
      "source": [
        "**Compute the Average total number of cases**"
      ]
    },
    {
      "cell_type": "code",
      "execution_count": null,
      "metadata": {
        "ExecuteTime": {
          "end_time": "2020-08-14T08:48:45.974405Z",
          "start_time": "2020-08-14T08:48:45.969301Z"
        },
        "id": "_ILK6q3VMrOj"
      },
      "outputs": [],
      "source": [
        "# What information do we need to get this result?\n"
      ]
    },
    {
      "cell_type": "code",
      "execution_count": null,
      "metadata": {
        "ExecuteTime": {
          "end_time": "2020-08-14T08:48:46.210971Z",
          "start_time": "2020-08-14T08:48:46.205307Z"
        },
        "id": "RHJtbg6dMrOj"
      },
      "outputs": [],
      "source": [
        "#"
      ]
    },
    {
      "cell_type": "markdown",
      "metadata": {
        "id": "PPG6fyvPMrOj"
      },
      "source": [
        "### Part 5: Create an object ```countries``` that contains all the country names in the data set. Each country should only be listed once.\n",
        "\n",
        "1. Create a list (or other python data type) of unique country names.\n",
        "2. Print total number of unique countries represented in the data set.\n",
        "3. Print the first 5 names and the last 5 names - Print your results neatly and annotate. Your results should be in alphabetical order.\n"
      ]
    },
    {
      "cell_type": "code",
      "execution_count": 39,
      "metadata": {
        "ExecuteTime": {
          "end_time": "2020-08-14T08:48:46.716076Z",
          "start_time": "2020-08-14T08:48:46.709715Z"
        },
        "id": "oj-WN4R2MrOj",
        "colab": {
          "base_uri": "https://localhost:8080/"
        },
        "outputId": "71646806-4dd2-49a5-a97c-2b939c875bea"
      },
      "outputs": [
        {
          "output_type": "stream",
          "name": "stdout",
          "text": [
            "Total number of unique countries: 188\n"
          ]
        }
      ],
      "source": [
        "# Where are countries in the rows\n",
        "\n",
        "df = pd.read_csv ('/content/covid.csv')\n",
        "\n",
        "\n",
        "# Extract all unique country names and sort them\n",
        "countries = sorted(df['Country_Region'].unique())\n",
        "\n",
        "# print the country count\n",
        "print(f\"Total number of unique countries: {len(countries)}\")"
      ]
    },
    {
      "cell_type": "code",
      "execution_count": 40,
      "metadata": {
        "ExecuteTime": {
          "end_time": "2020-08-14T08:48:47.177501Z",
          "start_time": "2020-08-14T08:48:47.169206Z"
        },
        "id": "DDWQm1wjMrOj",
        "colab": {
          "base_uri": "https://localhost:8080/"
        },
        "outputId": "fe93325d-663e-47bc-862f-95ef3d4ffd8e"
      },
      "outputs": [
        {
          "output_type": "stream",
          "name": "stdout",
          "text": [
            "List of all countries:\n",
            "Afghanistan\n",
            "Albania\n",
            "Algeria\n",
            "Andorra\n",
            "Angola\n",
            "Antigua and Barbuda\n",
            "Argentina\n",
            "Armenia\n",
            "Australia\n",
            "Austria\n",
            "Azerbaijan\n",
            "Bahamas\n",
            "Bahrain\n",
            "Bangladesh\n",
            "Barbados\n",
            "Belarus\n",
            "Belgium\n",
            "Belize\n",
            "Benin\n",
            "Bhutan\n",
            "Bolivia\n",
            "Bosnia and Herzegovina\n",
            "Botswana\n",
            "Brazil\n",
            "Brunei\n",
            "Bulgaria\n",
            "Burkina Faso\n",
            "Burma\n",
            "Burundi\n",
            "Cabo Verde\n",
            "Cambodia\n",
            "Cameroon\n",
            "Canada\n",
            "Central African Republic\n",
            "Chad\n",
            "Chile\n",
            "China\n",
            "Colombia\n",
            "Comoros\n",
            "Congo (Brazzaville)\n",
            "Congo (Kinshasa)\n",
            "Costa Rica\n",
            "Cote d'Ivoire\n",
            "Croatia\n",
            "Cuba\n",
            "Cyprus\n",
            "Czechia\n",
            "Denmark\n",
            "Diamond Princess\n",
            "Djibouti\n",
            "Dominica\n",
            "Dominican Republic\n",
            "Ecuador\n",
            "Egypt\n",
            "El Salvador\n",
            "Equatorial Guinea\n",
            "Eritrea\n",
            "Estonia\n",
            "Eswatini\n",
            "Ethiopia\n",
            "Fiji\n",
            "Finland\n",
            "France\n",
            "Gabon\n",
            "Gambia\n",
            "Georgia\n",
            "Germany\n",
            "Ghana\n",
            "Greece\n",
            "Grenada\n",
            "Guatemala\n",
            "Guinea\n",
            "Guinea-Bissau\n",
            "Guyana\n",
            "Haiti\n",
            "Holy See\n",
            "Honduras\n",
            "Hungary\n",
            "Iceland\n",
            "India\n",
            "Indonesia\n",
            "Iran\n",
            "Iraq\n",
            "Ireland\n",
            "Israel\n",
            "Italy\n",
            "Jamaica\n",
            "Japan\n",
            "Jordan\n",
            "Kazakhstan\n",
            "Kenya\n",
            "Korea, South\n",
            "Kosovo\n",
            "Kuwait\n",
            "Kyrgyzstan\n",
            "Laos\n",
            "Latvia\n",
            "Lebanon\n",
            "Lesotho\n",
            "Liberia\n",
            "Libya\n",
            "Liechtenstein\n",
            "Lithuania\n",
            "Luxembourg\n",
            "MS Zaandam\n",
            "Madagascar\n",
            "Malawi\n",
            "Malaysia\n",
            "Maldives\n",
            "Mali\n",
            "Malta\n",
            "Mauritania\n",
            "Mauritius\n",
            "Mexico\n",
            "Moldova\n",
            "Monaco\n",
            "Mongolia\n",
            "Montenegro\n",
            "Morocco\n",
            "Mozambique\n",
            "Namibia\n",
            "Nepal\n",
            "Netherlands\n",
            "New Zealand\n",
            "Nicaragua\n",
            "Niger\n",
            "Nigeria\n",
            "North Macedonia\n",
            "Norway\n",
            "Oman\n",
            "Pakistan\n",
            "Panama\n",
            "Papua New Guinea\n",
            "Paraguay\n",
            "Peru\n",
            "Philippines\n",
            "Poland\n",
            "Portugal\n",
            "Qatar\n",
            "Romania\n",
            "Russia\n",
            "Rwanda\n",
            "Saint Kitts and Nevis\n",
            "Saint Lucia\n",
            "Saint Vincent and the Grenadines\n",
            "San Marino\n",
            "Sao Tome and Principe\n",
            "Saudi Arabia\n",
            "Senegal\n",
            "Serbia\n",
            "Seychelles\n",
            "Sierra Leone\n",
            "Singapore\n",
            "Slovakia\n",
            "Slovenia\n",
            "Somalia\n",
            "South Africa\n",
            "South Sudan\n",
            "Spain\n",
            "Sri Lanka\n",
            "Sudan\n",
            "Suriname\n",
            "Sweden\n",
            "Switzerland\n",
            "Syria\n",
            "Taiwan*\n",
            "Tajikistan\n",
            "Tanzania\n",
            "Thailand\n",
            "Timor-Leste\n",
            "Togo\n",
            "Trinidad and Tobago\n",
            "Tunisia\n",
            "Turkey\n",
            "US\n",
            "Uganda\n",
            "Ukraine\n",
            "United Arab Emirates\n",
            "United Kingdom\n",
            "Uruguay\n",
            "Uzbekistan\n",
            "Venezuela\n",
            "Vietnam\n",
            "West Bank and Gaza\n",
            "Western Sahara\n",
            "Yemen\n",
            "Zambia\n",
            "Zimbabwe\n"
          ]
        }
      ],
      "source": [
        "# list the countries\n",
        "print(\"List of all countries:\")\n",
        "for country in countries:\n",
        "    print(country)"
      ]
    },
    {
      "cell_type": "code",
      "execution_count": 41,
      "metadata": {
        "ExecuteTime": {
          "end_time": "2020-08-14T08:48:47.394181Z",
          "start_time": "2020-08-14T08:48:47.388870Z"
        },
        "id": "VNdbdwE5MrOj",
        "colab": {
          "base_uri": "https://localhost:8080/"
        },
        "outputId": "9d0ed91b-976d-41c3-e56e-cb67568a0444"
      },
      "outputs": [
        {
          "output_type": "stream",
          "name": "stdout",
          "text": [
            "First 5 countries: ['Afghanistan', 'Albania', 'Algeria', 'Andorra', 'Angola']\n",
            "Last 5 countries: ['West Bank and Gaza', 'Western Sahara', 'Yemen', 'Zambia', 'Zimbabwe']\n"
          ]
        }
      ],
      "source": [
        "# print the first 5.\n",
        "print(\"First 5 countries:\", countries[:5])\n",
        "\n",
        "# print the last 5\n",
        "print(\"Last 5 countries:\", countries[-5:])\n"
      ]
    },
    {
      "cell_type": "markdown",
      "metadata": {
        "id": "QM6WVwSQMrOj"
      },
      "source": [
        "### Part 6: Calculate the average number of confirmed cases for the first 5 countries and the last 5 countries.\n",
        "\n",
        "1. Determine the average number of confirmed cases for the first 5 countries.\n",
        "2. Determine the average number of confirmed cases for the last 5 countries.\n",
        "\n",
        "\n",
        "Note: Print your results neatly and properly annotated.\n",
        "\n",
        "Hint: Think carefully about the easiest way to count the number of confirmed cases!\n"
      ]
    },
    {
      "cell_type": "code",
      "execution_count": 38,
      "metadata": {
        "ExecuteTime": {
          "end_time": "2020-08-14T08:48:48.404253Z",
          "start_time": "2020-08-14T08:48:48.401253Z"
        },
        "id": "byZ5O7pgMrOj",
        "colab": {
          "base_uri": "https://localhost:8080/"
        },
        "outputId": "00ca8819-e9da-4b5a-b84a-faa9520a4180"
      },
      "outputs": [
        {
          "output_type": "stream",
          "name": "stdout",
          "text": [
            "Average number of confirmed cases for the first 5 countries: 16720.00\n",
            "Average number of confirmed cases for the last 5 countries: 6085.80\n"
          ]
        }
      ],
      "source": [
        "import pandas as pd\n",
        "\n",
        "# Load the data from the CSV file\n",
        "df = pd.read_csv ('/content/covid.csv')\n",
        "\n",
        "# Sort the DataFrame by 'Country_Region' to ensure alphabetical order\n",
        "df_sorted = df.sort_values(by='Country_Region')\n",
        "\n",
        "# Get unique countries and ensure they are sorted\n",
        "countries_sorted = df_sorted['Country_Region'].unique()\n",
        "\n",
        "# Select the first and last 5 countries\n",
        "first_five_countries = countries_sorted[:5]\n",
        "last_five_countries = countries_sorted[-5:]\n",
        "\n",
        "# Calculate the average confirmed cases for these countries\n",
        "# Filtering data for the first 5 countries\n",
        "first_five_avg = df_sorted[df_sorted['Country_Region'].isin(first_five_countries)]['Confirmed'].mean()\n",
        "\n",
        "# Filtering data for the last 5 countries\n",
        "last_five_avg = df_sorted[df_sorted['Country_Region'].isin(last_five_countries)]['Confirmed'].mean()\n",
        "\n",
        "# Print the results neatly\n",
        "print(f\"Average number of confirmed cases for the first 5 countries: {first_five_avg:.2f}\")\n",
        "print(f\"Average number of confirmed cases for the last 5 countries: {last_five_avg:.2f}\")\n"
      ]
    },
    {
      "cell_type": "markdown",
      "metadata": {
        "id": "VkYH3NBPMrOk"
      },
      "source": [
        "### Problem 7: Create a dictionary of confirmed cases in the EU.\n",
        "\n",
        "The keys in the dictionary are the countries in Europe and the values will be the total number of confirmed cases.\n",
        "\n",
        "**Expected output**: `{'Austria': 22439, 'Belgium': 75647, ...  }` (*required*)\n",
        "\n",
        "**Bonus**: use `.defaultdict()` to simplify your code. (*optional*)\n",
        "\n",
        "See: [Python Doc - defaultdict](https://docs.python.org/3/library/collections.html?highlight=defaultdict#collections.defaultdict) or [Stackoverflow - defaultdict](https://stackoverflow.com/questions/5900578/how-does-collections-defaultdict-work)"
      ]
    },
    {
      "cell_type": "code",
      "execution_count": null,
      "metadata": {
        "ExecuteTime": {
          "end_time": "2020-08-14T08:48:50.837286Z",
          "start_time": "2020-08-14T08:48:50.832451Z"
        },
        "id": "oYkx5lbrMrOk"
      },
      "outputs": [],
      "source": [
        "# a list of EU countries\n",
        "eu = ['Austria',\n",
        "'Belgium',\n",
        "'Bulgaria',\n",
        "'Croatia',\n",
        "'Cyprus',\n",
        "'Czechia',\n",
        "'Denmark',\n",
        "'Estonia',\n",
        "'Finland',\n",
        "'France',\n",
        "'Germany',\n",
        "'Greece',\n",
        "'Hungary',\n",
        "'Ireland',\n",
        "'Italy',\n",
        "'Latvia',\n",
        "'Lithuania',\n",
        "'Luxembourg',\n",
        "'Malta',\n",
        "'Netherlands',\n",
        "'Poland',\n",
        "'Portugal',\n",
        "'Romania',\n",
        "'Slovakia',\n",
        "'Slovenia',\n",
        "'Spain',\n",
        "'Sweden']"
      ]
    },
    {
      "cell_type": "code",
      "execution_count": null,
      "metadata": {
        "ExecuteTime": {
          "end_time": "2020-08-14T08:48:51.787870Z",
          "start_time": "2020-08-14T08:48:51.780779Z"
        },
        "id": "v0oBuSvaMrOk"
      },
      "outputs": [],
      "source": [
        "# if you used a named tuple - answer here"
      ]
    },
    {
      "cell_type": "code",
      "execution_count": 42,
      "metadata": {
        "ExecuteTime": {
          "end_time": "2020-08-14T08:48:53.375323Z",
          "start_time": "2020-08-14T08:48:53.368950Z"
        },
        "id": "Mfjsw7HdMrOk",
        "colab": {
          "base_uri": "https://localhost:8080/"
        },
        "outputId": "87f0b416-16f4-45b3-c12d-dfe6d9277fa9"
      },
      "outputs": [
        {
          "output_type": "stream",
          "name": "stdout",
          "text": [
            "Confirmed COVID-19 cases in EU countries:\n",
            "Austria: 22439\n",
            "Belgium: 75647\n",
            "Bulgaria: 13893\n",
            "Croatia: 5870\n",
            "Cyprus: 1291\n",
            "Denmark: 15423\n",
            "Estonia: 2174\n",
            "Finland: 7642\n",
            "France: 244088\n",
            "Germany: 220859\n",
            "Greece: 6177\n",
            "Hungary: 4768\n",
            "Ireland: 26838\n",
            "Italy: 251713\n",
            "Latvia: 1303\n",
            "Lithuania: 2309\n",
            "Luxembourg: 7300\n",
            "Malta: 1190\n",
            "Netherlands: 61718\n",
            "Poland: 53676\n",
            "Portugal: 53223\n",
            "Romania: 65177\n",
            "Slovakia: 2690\n",
            "Slovenia: 2303\n",
            "Spain: 329784\n",
            "Sweden: 83455\n"
          ]
        }
      ],
      "source": [
        "#try with a defaultdict\n",
        "\n",
        "import pandas as pd\n",
        "from collections import defaultdict\n",
        "\n",
        "df = pd.read_csv ('/content/covid.csv')\n",
        "\n",
        "eu_countries = [\n",
        "    'Austria', 'Belgium', 'Bulgaria', 'Croatia', 'Cyprus', 'Czech Republic',\n",
        "    'Denmark', 'Estonia', 'Finland', 'France', 'Germany', 'Greece', 'Hungary',\n",
        "    'Ireland', 'Italy', 'Latvia', 'Lithuania', 'Luxembourg', 'Malta',\n",
        "    'Netherlands', 'Poland', 'Portugal', 'Romania', 'Slovakia', 'Slovenia',\n",
        "    'Spain', 'Sweden'\n",
        "]\n",
        "\n",
        "eu_data = df[df['Country_Region'].isin(eu_countries)] # filtering the data\n",
        "\n",
        "confirmed_cases = defaultdict(int) # accumulating the confirmed cases here\n",
        "\n",
        "# Aggregate confirmed cases by country\n",
        "for index, row in eu_data.iterrows():\n",
        "    confirmed_cases[row['Country_Region']] += row['Confirmed']\n",
        "\n",
        "# Convert the defaultdict to a regular dictionary\n",
        "confirmed_dict = dict(confirmed_cases)\n",
        "\n",
        "# Print the dictionary\n",
        "print(\"Confirmed COVID-19 cases in EU countries:\")\n",
        "for country, cases in sorted(confirmed_dict.items()):  # Sorted for alphabetical order\n",
        "    print(f\"{country}: {cases}\")"
      ]
    },
    {
      "cell_type": "raw",
      "metadata": {
        "ExecuteTime": {
          "end_time": "2020-08-14T08:48:54.018920Z",
          "start_time": "2020-08-14T08:48:54.012003Z"
        },
        "scrolled": true,
        "id": "syP8futTMrOk"
      },
      "source": []
    },
    {
      "cell_type": "markdown",
      "metadata": {
        "id": "QB73PPn-MrOk"
      },
      "source": [
        "### Problem 8: Compare the Case Fatality Rate in the EU to that in the US and North America.\n",
        "\n",
        "1. Determine the CFR in the EU\n",
        "2. Determine the CFR in the US\n",
        "3. Determine the CFR in North America\n",
        "\n",
        "Note: The Case Fatality Rate is a feature in this data set. You are not to use that feature. You should compute the CFR from the other available features. Use the existing CFR column as a check."
      ]
    },
    {
      "cell_type": "code",
      "execution_count": null,
      "metadata": {
        "ExecuteTime": {
          "end_time": "2020-08-14T08:48:54.995602Z",
          "start_time": "2020-08-14T08:48:54.989058Z"
        },
        "scrolled": true,
        "id": "DECB4nJbMrOk"
      },
      "outputs": [],
      "source": [
        "import pandas as pd\n",
        "\n",
        "df = pd.read_csv ('/content/covid.csv')"
      ]
    },
    {
      "cell_type": "code",
      "execution_count": null,
      "metadata": {
        "ExecuteTime": {
          "end_time": "2020-08-14T08:48:55.290709Z",
          "start_time": "2020-08-14T08:48:55.280834Z"
        },
        "scrolled": true,
        "id": "w6ugLr4cMrOk"
      },
      "outputs": [],
      "source": []
    },
    {
      "cell_type": "code",
      "execution_count": null,
      "metadata": {
        "ExecuteTime": {
          "end_time": "2020-08-14T08:48:55.773253Z",
          "start_time": "2020-08-14T08:48:55.769002Z"
        },
        "id": "3w40gN5uMrOk"
      },
      "outputs": [],
      "source": [
        "# countries in North America\n",
        "na = ['Antigua and Barbuda',\n",
        "'Bahamas',\n",
        "'Barbados',\n",
        "'Belize',\n",
        "'Canada',\n",
        "'Costa Rica',\n",
        "'Cuba',\n",
        "'Dominica',\n",
        "'Dominican Republic',\n",
        "'El Salvador',\n",
        "'Grenada',\n",
        "'Guatemala',\n",
        "'Haiti',\n",
        "'Honduras',\n",
        "'Jamaica',\n",
        "'Mexico',\n",
        "'Nicaragua',\n",
        "'Panama',\n",
        "'Saint Kitts and Nevis',\n",
        "'Saint Lucia',\n",
        "'Saint Vincent and the Grenadines',\n",
        "'Trinidad and Tobago',\n",
        "'US']"
      ]
    },
    {
      "cell_type": "code",
      "execution_count": null,
      "metadata": {
        "ExecuteTime": {
          "end_time": "2020-08-14T08:48:56.336377Z",
          "start_time": "2020-08-14T08:48:56.325167Z"
        },
        "scrolled": true,
        "id": "O8EoPgIyMrOk"
      },
      "outputs": [],
      "source": [
        "# write a function\n",
        "\n",
        "\n"
      ]
    },
    {
      "cell_type": "markdown",
      "metadata": {
        "id": "yHqu3g0bMrOk"
      },
      "source": [
        "\n",
        "### Bonus 1: Craft a problem statement about this data that interests you, and then answer it!\n"
      ]
    },
    {
      "cell_type": "code",
      "execution_count": null,
      "metadata": {
        "id": "1u0vtcn_MrOk"
      },
      "outputs": [],
      "source": [
        "# Problem Statement: Impact of COVID-19 on Small vs. Large Countries in Europe\n",
        "# Given the global nature of the COVID-19 pandemic, different countries have faced varying challenges\n",
        "# based on numerous factors including healthcare infrastructure, population density, and government response.\n",
        "# An interesting aspect to explore is how smaller European countries (by population) have fared in\n",
        "# comparison to larger ones in terms of managing COVID-19 cases and fatalities.\n",
        "\n",
        "# The question is do smaller European countries have a higher or\n",
        "# lower Case Fatality Rate (CFR) compared to larger European countries during the COVID-19 pandemic?\n",
        "\n"
      ]
    },
    {
      "cell_type": "markdown",
      "metadata": {
        "id": "-l9Bf5PlMrOl"
      },
      "source": [
        "### Bonus 2: Repeat the above analysis using Pandas!\n"
      ]
    },
    {
      "cell_type": "code",
      "execution_count": null,
      "metadata": {
        "id": "YtnQ8sr4MrOl"
      },
      "outputs": [],
      "source": []
    }
  ],
  "metadata": {
    "anaconda-cloud": {},
    "kernelspec": {
      "display_name": "Python 3",
      "language": "python",
      "name": "python3"
    },
    "language_info": {
      "codemirror_mode": {
        "name": "ipython",
        "version": 3
      },
      "file_extension": ".py",
      "mimetype": "text/x-python",
      "name": "python",
      "nbconvert_exporter": "python",
      "pygments_lexer": "ipython3",
      "version": "3.7.3"
    },
    "toc": {
      "base_numbering": 1,
      "nav_menu": {},
      "number_sections": false,
      "sideBar": true,
      "skip_h1_title": false,
      "title_cell": "Table of Contents",
      "title_sidebar": "Contents",
      "toc_cell": false,
      "toc_position": {},
      "toc_section_display": true,
      "toc_window_display": false
    },
    "colab": {
      "provenance": []
    }
  },
  "nbformat": 4,
  "nbformat_minor": 0
}